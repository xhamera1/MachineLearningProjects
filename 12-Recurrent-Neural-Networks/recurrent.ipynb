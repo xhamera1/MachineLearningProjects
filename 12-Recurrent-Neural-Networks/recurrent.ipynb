{
 "cells": [
  {
   "cell_type": "markdown",
   "id": "e90a1604",
   "metadata": {},
   "source": [
    "# Laboratorium: Rekurencyjne sieci neuronowe\n"
   ]
  },
  {
   "cell_type": "markdown",
   "id": "463da2b3",
   "metadata": {},
   "source": [
    "## 2.1 Pobieranie danych"
   ]
  },
  {
   "cell_type": "code",
   "execution_count": 110,
   "id": "cff11e29",
   "metadata": {},
   "outputs": [],
   "source": [
    "import pandas as pd\n",
    "import numpy as np\n",
    "import matplotlib.pyplot as plt\n",
    "import tensorflow as tf\n"
   ]
  },
  {
   "cell_type": "code",
   "execution_count": 111,
   "id": "42964c48",
   "metadata": {},
   "outputs": [
    {
     "data": {
      "text/plain": [
       "'.\\\\datasets\\\\bike_sharing_dataset_extracted'"
      ]
     },
     "execution_count": 111,
     "metadata": {},
     "output_type": "execute_result"
    }
   ],
   "source": [
    "tf.keras.utils.get_file(\n",
    "    \"bike_sharing_dataset.zip\",\n",
    "    \"https://archive.ics.uci.edu/static/public/275/bike+sharing+dataset.zip\",\n",
    "    cache_dir=\".\",\n",
    "    extract=True\n",
    ")\n"
   ]
  },
  {
   "cell_type": "markdown",
   "id": "9620d626",
   "metadata": {},
   "source": [
    "## 2.2 Przygotowanie danych"
   ]
  },
  {
   "cell_type": "code",
   "execution_count": 112,
   "id": "08faa4cb",
   "metadata": {},
   "outputs": [],
   "source": [
    "df = pd.read_csv('datasets/bike_sharing_dataset_extracted/hour.csv')\n",
    "df['datetime'] = pd.to_datetime(df['dteday'] + ' ' + df['hr'].astype(str).str.zfill(2), format = '%Y-%m-%d %H')\n",
    "df.set_index('datetime', inplace=True)\n",
    "\n"
   ]
  },
  {
   "cell_type": "code",
   "execution_count": 113,
   "id": "127211b2",
   "metadata": {},
   "outputs": [
    {
     "name": "stdout",
     "output_type": "stream",
     "text": [
      "            instant      dteday  season  yr  mnth  hr  holiday  weekday  \\\n",
      "datetime                                                                  \n",
      "2011-01-01        1  2011-01-01       1   0     1   0        0        6   \n",
      "\n",
      "            workingday  weathersit  temp   atemp   hum  windspeed  casual  \\\n",
      "datetime                                                                    \n",
      "2011-01-01           0           1  0.24  0.2879  0.81        0.0       3   \n",
      "\n",
      "            registered  cnt  \n",
      "datetime                     \n",
      "2011-01-01          13   16  \n"
     ]
    }
   ],
   "source": [
    "print(df[:1])"
   ]
  },
  {
   "cell_type": "code",
   "execution_count": 114,
   "id": "706d0226",
   "metadata": {},
   "outputs": [
    {
     "name": "stdout",
     "output_type": "stream",
     "text": [
      "(Timestamp('2011-01-01 00:00:00'), Timestamp('2012-12-31 23:00:00'))\n"
     ]
    }
   ],
   "source": [
    "print((df.index.min(), df.index.max()))\n"
   ]
  },
  {
   "cell_type": "code",
   "execution_count": 115,
   "id": "40323ab2",
   "metadata": {},
   "outputs": [
    {
     "name": "stdout",
     "output_type": "stream",
     "text": [
      "dataset rows count:  17379\n",
      "should be:  17544\n",
      "missing:  165  rows\n"
     ]
    }
   ],
   "source": [
    "print('dataset rows count: ', len(df))\n",
    "print('should be: ', (365 + 366) * 24)\n",
    "print('missing: ', (365 + 366) * 24 - len(df), ' rows')\n"
   ]
  },
  {
   "cell_type": "markdown",
   "id": "63b47838",
   "metadata": {},
   "source": [
    "Okazuje się, że w zbiorze brakuje rekordów dla okresów (godzin) podczas których nikt nie korzystał z\n",
    "rowerów. Aby szeregi czasowe były regularne, trzeba je uzupełnić. Przy okazji pozbędziemy się\n",
    "niepotrzebnych kolumn"
   ]
  },
  {
   "cell_type": "code",
   "execution_count": 116,
   "id": "30c0c3e0",
   "metadata": {},
   "outputs": [
    {
     "name": "stderr",
     "output_type": "stream",
     "text": [
      "C:\\Users\\chame\\AppData\\Local\\Temp\\ipykernel_5860\\1761014142.py:20: FutureWarning: DataFrame.fillna with 'method' is deprecated and will raise in a future version. Use obj.ffill() or obj.bfill() instead.\n",
      "  df_resampled[cols_to_fill_prev] = df_resampled[cols_to_fill_prev].fillna(method='ffill')\n"
     ]
    }
   ],
   "source": [
    "full_index = pd.date_range(start=df.index.min(), end=df.index.max(), freq='h')\n",
    "\n",
    "df_resampled = df.reindex(full_index)\n",
    "\n",
    "# dla kolumn przechowujących zarejestrowane liczby wypożyczeń \n",
    "# (casual, registered, cnt), wypełnij brakujące wiersze zerami,\n",
    "cols_to_fill_zero = ['casual', 'registered', 'cnt']\n",
    "df_resampled[cols_to_fill_zero] = df_resampled[cols_to_fill_zero].fillna(0)\n",
    "\n",
    "# dla kolumn przechowujących sensoryczne dane pogodowe \n",
    "# (temp, atemp, hum, windspeed), zastosuj interpolację\n",
    "cols_to_interpolate = ['temp', 'atemp', 'hum', 'windspeed']\n",
    "df_resampled[cols_to_interpolate] = df_resampled[cols_to_interpolate].interpolate(method='time')\n",
    "\n",
    "\n",
    "# dla kolumn kategoryzowanych (holiday, weekday, workingday, weathersit),\n",
    "#  wypełnij brakujące wartości z poprzedniego rekordu.\n",
    "cols_to_fill_prev = ['holiday', 'weekday', 'workingday', 'weathersit']\n",
    "# forward fill - ffill - Fill NA/NaN values by propagating the last valid observation to next valid.\n",
    "df_resampled[cols_to_fill_prev] = df_resampled[cols_to_fill_prev].fillna(method='ffill')\n",
    "\n",
    "df = df_resampled\n"
   ]
  },
  {
   "cell_type": "markdown",
   "id": "1df14b90",
   "metadata": {},
   "source": [
    "### Sprawdzenie czy dataframe ma odpowiednia strukture"
   ]
  },
  {
   "cell_type": "code",
   "execution_count": 117,
   "id": "30b879bf",
   "metadata": {},
   "outputs": [
    {
     "name": "stdout",
     "output_type": "stream",
     "text": [
      "instant       17379\n",
      "dteday        17379\n",
      "season        17379\n",
      "yr            17379\n",
      "mnth          17379\n",
      "hr            17379\n",
      "holiday       17544\n",
      "weekday       17544\n",
      "workingday    17544\n",
      "weathersit    17544\n",
      "temp          17544\n",
      "atemp         17544\n",
      "hum           17544\n",
      "windspeed     17544\n",
      "casual        17544\n",
      "registered    17544\n",
      "cnt           17544\n",
      "dtype: int64\n"
     ]
    }
   ],
   "source": [
    "print(df.notna().sum())\n"
   ]
  },
  {
   "cell_type": "code",
   "execution_count": 118,
   "id": "b4d612de",
   "metadata": {},
   "outputs": [
    {
     "name": "stdout",
     "output_type": "stream",
     "text": [
      "             casual    registered           cnt    weathersit\n",
      "count  17544.000000  17544.000000  17544.000000  17544.000000\n",
      "mean      35.340686    152.340515    187.681202      1.434223\n",
      "std       49.193293    151.373409    181.456478      0.648339\n",
      "min        0.000000      0.000000      0.000000      1.000000\n",
      "25%        4.000000     32.000000     38.000000      1.000000\n",
      "50%       16.000000    114.000000    140.000000      1.000000\n",
      "75%       48.000000    219.000000    279.000000      2.000000\n",
      "max      367.000000    886.000000    977.000000      4.000000\n"
     ]
    }
   ],
   "source": [
    "print(df[['casual', 'registered', 'cnt', 'weathersit']].describe())\n"
   ]
  },
  {
   "cell_type": "code",
   "execution_count": 119,
   "id": "27724bf7",
   "metadata": {},
   "outputs": [
    {
     "name": "stdout",
     "output_type": "stream",
     "text": [
      "             casual    registered           cnt    weathersit\n",
      "count  17544.000000  17544.000000  17544.000000  17544.000000\n",
      "mean       0.035341      0.152341      0.187681      0.358556\n",
      "std        0.049193      0.151373      0.181456      0.162085\n",
      "min        0.000000      0.000000      0.000000      0.250000\n",
      "25%        0.004000      0.032000      0.038000      0.250000\n",
      "50%        0.016000      0.114000      0.140000      0.250000\n",
      "75%        0.048000      0.219000      0.279000      0.500000\n",
      "max        0.367000      0.886000      0.977000      1.000000\n"
     ]
    }
   ],
   "source": [
    "df.casual = df.casual / 1e3\n",
    "df.registered = df.registered / 1e3\n",
    "df.cnt = df.cnt / 1e3\n",
    "df.weathersit = df.weathersit / 4\n",
    "\n",
    "print(df[['casual', 'registered', 'cnt', 'weathersit']].describe())"
   ]
  },
  {
   "cell_type": "code",
   "execution_count": 120,
   "id": "881e6c97",
   "metadata": {},
   "outputs": [
    {
     "data": {
      "text/plain": [
       "<Axes: >"
      ]
     },
     "execution_count": 120,
     "metadata": {},
     "output_type": "execute_result"
    },
    {
     "data": {
      "image/png": "[encoded data removed]",
      "text/plain": [
       "<Figure size 1000x300 with 1 Axes>"
      ]
     },
     "metadata": {},
     "output_type": "display_data"
    }
   ],
   "source": [
    "df_2weeks = df[:24*7*2]\n",
    "df_2weeks[['casual', 'registered', 'cnt', 'temp']].plot(figsize=(10,3))\n"
   ]
  },
  {
   "cell_type": "code",
   "execution_count": 121,
   "id": "7c26d10c",
   "metadata": {},
   "outputs": [
    {
     "name": "stdout",
     "output_type": "stream",
     "text": [
      "instant       float64\n",
      "dteday         object\n",
      "season        float64\n",
      "yr            float64\n",
      "mnth          float64\n",
      "hr            float64\n",
      "holiday       float64\n",
      "weekday       float64\n",
      "workingday    float64\n",
      "weathersit    float64\n",
      "temp          float64\n",
      "atemp         float64\n",
      "hum           float64\n",
      "windspeed     float64\n",
      "casual        float64\n",
      "registered    float64\n",
      "cnt           float64\n",
      "dtype: object\n"
     ]
    }
   ],
   "source": [
    "print(df.dtypes)"
   ]
  },
  {
   "cell_type": "code",
   "execution_count": 122,
   "id": "0e454521",
   "metadata": {},
   "outputs": [
    {
     "data": {
      "text/plain": [
       "<Axes: >"
      ]
     },
     "execution_count": 122,
     "metadata": {},
     "output_type": "execute_result"
    },
    {
     "data": {
      "image/png": "[encoded data removed]",
      "text/plain": [
       "<Figure size 1000x300 with 1 Axes>"
      ]
     },
     "metadata": {},
     "output_type": "display_data"
    }
   ],
   "source": [
    "df['dteday'] = pd.to_datetime(df['dteday'])\n",
    "df_daily = df.resample('W').mean()\n",
    "df_daily[['casual', 'registered', 'cnt', 'temp']].plot(figsize=(10, 3))\n",
    "\n"
   ]
  },
  {
   "cell_type": "markdown",
   "id": "2490fabe",
   "metadata": {},
   "source": [
    "## 2.3 Wskaźniki bazowe - uzywajac sredniego bledu bezwzglednego "
   ]
  },
  {
   "cell_type": "code",
   "execution_count": 123,
   "id": "beb82288",
   "metadata": {},
   "outputs": [
    {
     "name": "stdout",
     "output_type": "stream",
     "text": [
      "63.79497716894977\n",
      "52.42506906077348\n"
     ]
    }
   ],
   "source": [
    "# dla doby:\n",
    "df['cnt_pred_daily'] = df['cnt'].shift(24) # 24 godziny wczesniej\n",
    "mae_daily = np.abs(df['cnt'].dropna() * 1000 - df['cnt_pred_daily'].dropna() * 1000).mean()\n",
    "print(mae_daily)\n",
    "\n",
    "# dla tygodnia\n",
    "df['cnt_pred_weekly'] = df['cnt'].shift(24*7) # 7 dni wczesniej\n",
    "mae_weekly = np.abs(df['cnt'].dropna() * 1000 - df['cnt_pred_weekly'].dropna() * 1000).mean()\n",
    "print(mae_weekly)\n",
    "\n",
    "mae_baseline = (mae_daily, mae_weekly)\n",
    "\n",
    "import pickle\n",
    "\n",
    "with open('mae_baseline.pkl', 'wb') as file:\n",
    "    pickle.dump(mae_baseline, file)\n"
   ]
  },
  {
   "cell_type": "markdown",
   "id": "611628bd",
   "metadata": {},
   "source": [
    "## 2.4 Predykcja przy pomocy sieci gęstej"
   ]
  },
  {
   "cell_type": "markdown",
   "id": "a2141d2e",
   "metadata": {},
   "source": [
    "proporcja: 18 miesiecy treningowy, 6 miesiecy walidacyjny"
   ]
  },
  {
   "cell_type": "code",
   "execution_count": 124,
   "id": "6e2fdff4",
   "metadata": {},
   "outputs": [],
   "source": [
    "cnt_train = df['cnt']['2011-01-01 00:00' : '2012-06-30 23:00']\n",
    "cnt_valid = df['cnt']['2012-07-01 00:00':]"
   ]
  },
  {
   "cell_type": "code",
   "execution_count": 125,
   "id": "9421e1db",
   "metadata": {},
   "outputs": [],
   "source": [
    "seq_len = 1 * 24\n",
    "\n",
    "# timeseries_dataset_from_array() - tworzy okna dancyh wejsciowych z etykietami\n",
    "# seq_len  - definiuje dlugosc sekwencji wejsciowej (wielkosc okna) na 24 rekordy czyli jedna doba\n",
    "\n",
    "# chodzi o to ze na podstawie 24 godizn model ma przewidziec kolejna wartosc jaka bedzie w 25 godzinie jakby\n",
    "\n",
    "train_ds = tf.keras.utils.timeseries_dataset_from_array(\n",
    "    cnt_train.to_numpy(),               # dane wejsciowe jako tablica numpy\n",
    "    targets=cnt_train[seq_len:],        # wartosci docelowe ktore model ma przewidziec\n",
    "    sequence_length=seq_len,            # kazda probka bedzie miala dlugosc 24\n",
    "    batch_size=32,                      # dane beda pogrupowane po 32 paczki\n",
    "    shuffle=True,                       # przetasowanie\n",
    "    seed=42                             \n",
    ")\n",
    "\n",
    "valid_ds = tf.keras.utils.timeseries_dataset_from_array(\n",
    "    cnt_valid.to_numpy(),\n",
    "    targets=cnt_valid[seq_len:],\n",
    "    sequence_length=seq_len,\n",
    "    batch_size=32\n",
    ")\n",
    "\n"
   ]
  },
  {
   "cell_type": "code",
   "execution_count": 126,
   "id": "9c7b7c8e",
   "metadata": {},
   "outputs": [],
   "source": [
    "model = tf.keras.Sequential([\n",
    "    tf.keras.Input(shape=(seq_len,)),\n",
    "    tf.keras.layers.Dense(1)\n",
    "])"
   ]
  },
  {
   "cell_type": "code",
   "execution_count": 127,
   "id": "fde6351c",
   "metadata": {},
   "outputs": [],
   "source": [
    "optimizer = tf.keras.optimizers.SGD(momentum=0.9, learning_rate=0.1)\n",
    "model.compile(loss=tf.keras.losses.Huber(), optimizer=optimizer, metrics=['mae'])"
   ]
  },
  {
   "cell_type": "code",
   "execution_count": 128,
   "id": "08c9b5b0",
   "metadata": {},
   "outputs": [
    {
     "name": "stdout",
     "output_type": "stream",
     "text": [
      "Epoch 1/20\n",
      "\u001b[1m410/410\u001b[0m \u001b[32m━━━━━━━━━━━━━━━━━━━━\u001b[0m\u001b[37m\u001b[0m \u001b[1m3s\u001b[0m 4ms/step - loss: 0.0058 - mae: 0.0709 - val_loss: 0.0038 - val_mae: 0.0590\n",
      "Epoch 2/20\n",
      "\u001b[1m410/410\u001b[0m \u001b[32m━━━━━━━━━━━━━━━━━━━━\u001b[0m\u001b[37m\u001b[0m \u001b[1m2s\u001b[0m 4ms/step - loss: 0.0020 - mae: 0.0436 - val_loss: 0.0036 - val_mae: 0.0577\n",
      "Epoch 3/20\n",
      "\u001b[1m410/410\u001b[0m \u001b[32m━━━━━━━━━━━━━━━━━━━━\u001b[0m\u001b[37m\u001b[0m \u001b[1m1s\u001b[0m 3ms/step - loss: 0.0019 - mae: 0.0417 - val_loss: 0.0036 - val_mae: 0.0565\n",
      "Epoch 4/20\n",
      "\u001b[1m410/410\u001b[0m \u001b[32m━━━━━━━━━━━━━━━━━━━━\u001b[0m\u001b[37m\u001b[0m \u001b[1m2s\u001b[0m 4ms/step - loss: 0.0019 - mae: 0.0413 - val_loss: 0.0038 - val_mae: 0.0627\n",
      "Epoch 5/20\n",
      "\u001b[1m410/410\u001b[0m \u001b[32m━━━━━━━━━━━━━━━━━━━━\u001b[0m\u001b[37m\u001b[0m \u001b[1m1s\u001b[0m 3ms/step - loss: 0.0019 - mae: 0.0419 - val_loss: 0.0038 - val_mae: 0.0620\n",
      "Epoch 6/20\n",
      "\u001b[1m410/410\u001b[0m \u001b[32m━━━━━━━━━━━━━━━━━━━━\u001b[0m\u001b[37m\u001b[0m \u001b[1m1s\u001b[0m 3ms/step - loss: 0.0019 - mae: 0.0415 - val_loss: 0.0034 - val_mae: 0.0563\n",
      "Epoch 7/20\n",
      "\u001b[1m410/410\u001b[0m \u001b[32m━━━━━━━━━━━━━━━━━━━━\u001b[0m\u001b[37m\u001b[0m \u001b[1m1s\u001b[0m 3ms/step - loss: 0.0018 - mae: 0.0406 - val_loss: 0.0035 - val_mae: 0.0565\n",
      "Epoch 8/20\n",
      "\u001b[1m410/410\u001b[0m \u001b[32m━━━━━━━━━━━━━━━━━━━━\u001b[0m\u001b[37m\u001b[0m \u001b[1m1s\u001b[0m 3ms/step - loss: 0.0018 - mae: 0.0402 - val_loss: 0.0036 - val_mae: 0.0580\n",
      "Epoch 9/20\n",
      "\u001b[1m410/410\u001b[0m \u001b[32m━━━━━━━━━━━━━━━━━━━━\u001b[0m\u001b[37m\u001b[0m \u001b[1m2s\u001b[0m 4ms/step - loss: 0.0018 - mae: 0.0408 - val_loss: 0.0034 - val_mae: 0.0558\n",
      "Epoch 10/20\n",
      "\u001b[1m410/410\u001b[0m \u001b[32m━━━━━━━━━━━━━━━━━━━━\u001b[0m\u001b[37m\u001b[0m \u001b[1m2s\u001b[0m 4ms/step - loss: 0.0018 - mae: 0.0407 - val_loss: 0.0034 - val_mae: 0.0557\n",
      "Epoch 11/20\n",
      "\u001b[1m410/410\u001b[0m \u001b[32m━━━━━━━━━━━━━━━━━━━━\u001b[0m\u001b[37m\u001b[0m \u001b[1m1s\u001b[0m 3ms/step - loss: 0.0018 - mae: 0.0404 - val_loss: 0.0034 - val_mae: 0.0556\n",
      "Epoch 12/20\n",
      "\u001b[1m410/410\u001b[0m \u001b[32m━━━━━━━━━━━━━━━━━━━━\u001b[0m\u001b[37m\u001b[0m \u001b[1m2s\u001b[0m 5ms/step - loss: 0.0017 - mae: 0.0399 - val_loss: 0.0034 - val_mae: 0.0562\n",
      "Epoch 13/20\n",
      "\u001b[1m410/410\u001b[0m \u001b[32m━━━━━━━━━━━━━━━━━━━━\u001b[0m\u001b[37m\u001b[0m \u001b[1m3s\u001b[0m 7ms/step - loss: 0.0018 - mae: 0.0403 - val_loss: 0.0033 - val_mae: 0.0558\n",
      "Epoch 14/20\n",
      "\u001b[1m410/410\u001b[0m \u001b[32m━━━━━━━━━━━━━━━━━━━━\u001b[0m\u001b[37m\u001b[0m \u001b[1m3s\u001b[0m 8ms/step - loss: 0.0018 - mae: 0.0407 - val_loss: 0.0033 - val_mae: 0.0558\n",
      "Epoch 15/20\n",
      "\u001b[1m410/410\u001b[0m \u001b[32m━━━━━━━━━━━━━━━━━━━━\u001b[0m\u001b[37m\u001b[0m \u001b[1m3s\u001b[0m 8ms/step - loss: 0.0018 - mae: 0.0403 - val_loss: 0.0034 - val_mae: 0.0567\n",
      "Epoch 16/20\n",
      "\u001b[1m410/410\u001b[0m \u001b[32m━━━━━━━━━━━━━━━━━━━━\u001b[0m\u001b[37m\u001b[0m \u001b[1m3s\u001b[0m 6ms/step - loss: 0.0018 - mae: 0.0407 - val_loss: 0.0033 - val_mae: 0.0556\n",
      "Epoch 17/20\n",
      "\u001b[1m410/410\u001b[0m \u001b[32m━━━━━━━━━━━━━━━━━━━━\u001b[0m\u001b[37m\u001b[0m \u001b[1m2s\u001b[0m 3ms/step - loss: 0.0018 - mae: 0.0404 - val_loss: 0.0034 - val_mae: 0.0573\n",
      "Epoch 18/20\n",
      "\u001b[1m410/410\u001b[0m \u001b[32m━━━━━━━━━━━━━━━━━━━━\u001b[0m\u001b[37m\u001b[0m \u001b[1m2s\u001b[0m 4ms/step - loss: 0.0018 - mae: 0.0404 - val_loss: 0.0034 - val_mae: 0.0557\n",
      "Epoch 19/20\n",
      "\u001b[1m410/410\u001b[0m \u001b[32m━━━━━━━━━━━━━━━━━━━━\u001b[0m\u001b[37m\u001b[0m \u001b[1m1s\u001b[0m 3ms/step - loss: 0.0017 - mae: 0.0402 - val_loss: 0.0033 - val_mae: 0.0555\n",
      "Epoch 20/20\n",
      "\u001b[1m410/410\u001b[0m \u001b[32m━━━━━━━━━━━━━━━━━━━━\u001b[0m\u001b[37m\u001b[0m \u001b[1m2s\u001b[0m 4ms/step - loss: 0.0018 - mae: 0.0405 - val_loss: 0.0034 - val_mae: 0.0567\n"
     ]
    }
   ],
   "source": [
    "history = model.fit(train_ds, epochs=20, validation_data=valid_ds)"
   ]
  },
  {
   "cell_type": "code",
   "execution_count": 129,
   "id": "d491055d",
   "metadata": {},
   "outputs": [
    {
     "name": "stdout",
     "output_type": "stream",
     "text": [
      "56.70224875211716\n"
     ]
    }
   ],
   "source": [
    "validation_mae = history.history['val_mae'][-1]\n",
    "scaled_mae = validation_mae * 1000\n",
    "print(scaled_mae)\n",
    "\n",
    "# 56.22904747724533 jest lepsze niz bazowy 65.0561797752809\n"
   ]
  },
  {
   "cell_type": "code",
   "execution_count": 130,
   "id": "152e8a20",
   "metadata": {},
   "outputs": [],
   "source": [
    "model.save('model_linear.keras')\n",
    "\n",
    "mae_linear = (scaled_mae)\n",
    "with open(' mae_linear.pkl', 'wb') as file:\n",
    "    pickle.dump(mae_linear, file)\n",
    "\n"
   ]
  },
  {
   "cell_type": "markdown",
   "id": "fa7e1729",
   "metadata": {},
   "source": [
    "## 2.5 Prosta sieć rekurencyjna"
   ]
  },
  {
   "cell_type": "markdown",
   "id": "7e678dd1",
   "metadata": {},
   "source": [
    "### Utwórz prostą sieć rekurencyjną, zawierającą jedną warstwę z jednym neuronem"
   ]
  },
  {
   "cell_type": "code",
   "execution_count": 131,
   "id": "94cac7b9",
   "metadata": {},
   "outputs": [],
   "source": [
    "model = tf.keras.Sequential([\n",
    "    tf.keras.Input(shape=[None,1]),\n",
    "    tf.keras.layers.LSTM(1)\n",
    "])\n",
    "\n"
   ]
  },
  {
   "cell_type": "code",
   "execution_count": 132,
   "id": "a8e055c4",
   "metadata": {},
   "outputs": [],
   "source": [
    "optimizer = tf.keras.optimizers.Adam(learning_rate=0.001)\n",
    "model.compile(loss=tf.keras.losses.Huber(), optimizer=optimizer,\n",
    "              metrics=['mae'])\n"
   ]
  },
  {
   "cell_type": "code",
   "execution_count": 133,
   "id": "ebbb5e3d",
   "metadata": {},
   "outputs": [
    {
     "name": "stdout",
     "output_type": "stream",
     "text": [
      "Epoch 1/20\n",
      "\u001b[1m410/410\u001b[0m \u001b[32m━━━━━━━━━━━━━━━━━━━━\u001b[0m\u001b[37m\u001b[0m \u001b[1m6s\u001b[0m 10ms/step - loss: 0.0108 - mae: 0.1133 - val_loss: 0.0190 - val_mae: 0.1530\n",
      "Epoch 2/20\n",
      "\u001b[1m410/410\u001b[0m \u001b[32m━━━━━━━━━━━━━━━━━━━━\u001b[0m\u001b[37m\u001b[0m \u001b[1m5s\u001b[0m 12ms/step - loss: 0.0095 - mae: 0.1062 - val_loss: 0.0180 - val_mae: 0.1501\n",
      "Epoch 3/20\n",
      "\u001b[1m410/410\u001b[0m \u001b[32m━━━━━━━━━━━━━━━━━━━━\u001b[0m\u001b[37m\u001b[0m \u001b[1m5s\u001b[0m 13ms/step - loss: 0.0092 - mae: 0.1046 - val_loss: 0.0173 - val_mae: 0.1461\n",
      "Epoch 4/20\n",
      "\u001b[1m410/410\u001b[0m \u001b[32m━━━━━━━━━━━━━━━━━━━━\u001b[0m\u001b[37m\u001b[0m \u001b[1m5s\u001b[0m 13ms/step - loss: 0.0089 - mae: 0.1027 - val_loss: 0.0165 - val_mae: 0.1439\n",
      "Epoch 5/20\n",
      "\u001b[1m410/410\u001b[0m \u001b[32m━━━━━━━━━━━━━━━━━━━━\u001b[0m\u001b[37m\u001b[0m \u001b[1m4s\u001b[0m 9ms/step - loss: 0.0085 - mae: 0.1008 - val_loss: 0.0159 - val_mae: 0.1415\n",
      "Epoch 6/20\n",
      "\u001b[1m410/410\u001b[0m \u001b[32m━━━━━━━━━━━━━━━━━━━━\u001b[0m\u001b[37m\u001b[0m \u001b[1m5s\u001b[0m 11ms/step - loss: 0.0082 - mae: 0.0992 - val_loss: 0.0152 - val_mae: 0.1373\n",
      "Epoch 7/20\n",
      "\u001b[1m410/410\u001b[0m \u001b[32m━━━━━━━━━━━━━━━━━━━━\u001b[0m\u001b[37m\u001b[0m \u001b[1m4s\u001b[0m 10ms/step - loss: 0.0079 - mae: 0.0973 - val_loss: 0.0146 - val_mae: 0.1360\n",
      "Epoch 8/20\n",
      "\u001b[1m410/410\u001b[0m \u001b[32m━━━━━━━━━━━━━━━━━━━━\u001b[0m\u001b[37m\u001b[0m \u001b[1m4s\u001b[0m 10ms/step - loss: 0.0077 - mae: 0.0961 - val_loss: 0.0140 - val_mae: 0.1335\n",
      "Epoch 9/20\n",
      "\u001b[1m410/410\u001b[0m \u001b[32m━━━━━━━━━━━━━━━━━━━━\u001b[0m\u001b[37m\u001b[0m \u001b[1m4s\u001b[0m 10ms/step - loss: 0.0074 - mae: 0.0939 - val_loss: 0.0134 - val_mae: 0.1289\n",
      "Epoch 10/20\n",
      "\u001b[1m410/410\u001b[0m \u001b[32m━━━━━━━━━━━━━━━━━━━━\u001b[0m\u001b[37m\u001b[0m \u001b[1m4s\u001b[0m 10ms/step - loss: 0.0072 - mae: 0.0926 - val_loss: 0.0128 - val_mae: 0.1255\n",
      "Epoch 11/20\n",
      "\u001b[1m410/410\u001b[0m \u001b[32m━━━━━━━━━━━━━━━━━━━━\u001b[0m\u001b[37m\u001b[0m \u001b[1m4s\u001b[0m 10ms/step - loss: 0.0069 - mae: 0.0916 - val_loss: 0.0125 - val_mae: 0.1260\n",
      "Epoch 12/20\n",
      "\u001b[1m410/410\u001b[0m \u001b[32m━━━━━━━━━━━━━━━━━━━━\u001b[0m\u001b[37m\u001b[0m \u001b[1m4s\u001b[0m 9ms/step - loss: 0.0067 - mae: 0.0900 - val_loss: 0.0122 - val_mae: 0.1242\n",
      "Epoch 13/20\n",
      "\u001b[1m410/410\u001b[0m \u001b[32m━━━━━━━━━━━━━━━━━━━━\u001b[0m\u001b[37m\u001b[0m \u001b[1m5s\u001b[0m 12ms/step - loss: 0.0066 - mae: 0.0901 - val_loss: 0.0117 - val_mae: 0.1196\n",
      "Epoch 14/20\n",
      "\u001b[1m410/410\u001b[0m \u001b[32m━━━━━━━━━━━━━━━━━━━━\u001b[0m\u001b[37m\u001b[0m \u001b[1m7s\u001b[0m 17ms/step - loss: 0.0064 - mae: 0.0883 - val_loss: 0.0114 - val_mae: 0.1199\n",
      "Epoch 15/20\n",
      "\u001b[1m410/410\u001b[0m \u001b[32m━━━━━━━━━━━━━━━━━━━━\u001b[0m\u001b[37m\u001b[0m \u001b[1m7s\u001b[0m 17ms/step - loss: 0.0062 - mae: 0.0866 - val_loss: 0.0112 - val_mae: 0.1198\n",
      "Epoch 16/20\n",
      "\u001b[1m410/410\u001b[0m \u001b[32m━━━━━━━━━━━━━━━━━━━━\u001b[0m\u001b[37m\u001b[0m \u001b[1m7s\u001b[0m 16ms/step - loss: 0.0061 - mae: 0.0864 - val_loss: 0.0107 - val_mae: 0.1146\n",
      "Epoch 17/20\n",
      "\u001b[1m410/410\u001b[0m \u001b[32m━━━━━━━━━━━━━━━━━━━━\u001b[0m\u001b[37m\u001b[0m \u001b[1m8s\u001b[0m 18ms/step - loss: 0.0059 - mae: 0.0849 - val_loss: 0.0104 - val_mae: 0.1145\n",
      "Epoch 18/20\n",
      "\u001b[1m410/410\u001b[0m \u001b[32m━━━━━━━━━━━━━━━━━━━━\u001b[0m\u001b[37m\u001b[0m \u001b[1m7s\u001b[0m 17ms/step - loss: 0.0057 - mae: 0.0835 - val_loss: 0.0100 - val_mae: 0.1113\n",
      "Epoch 19/20\n",
      "\u001b[1m410/410\u001b[0m \u001b[32m━━━━━━━━━━━━━━━━━━━━\u001b[0m\u001b[37m\u001b[0m \u001b[1m8s\u001b[0m 18ms/step - loss: 0.0056 - mae: 0.0826 - val_loss: 0.0097 - val_mae: 0.1091\n",
      "Epoch 20/20\n",
      "\u001b[1m410/410\u001b[0m \u001b[32m━━━━━━━━━━━━━━━━━━━━\u001b[0m\u001b[37m\u001b[0m \u001b[1m6s\u001b[0m 15ms/step - loss: 0.0054 - mae: 0.0812 - val_loss: 0.0094 - val_mae: 0.1065\n"
     ]
    }
   ],
   "source": [
    "history = model.fit(train_ds, epochs=20, validation_data=valid_ds)"
   ]
  },
  {
   "cell_type": "code",
   "execution_count": null,
   "id": "8135763c",
   "metadata": {},
   "outputs": [
    {
     "name": "stdout",
     "output_type": "stream",
     "text": [
      "106.5203994512558\n"
     ]
    }
   ],
   "source": [
    "validation_mae = history.history['val_mae'][-1]\n",
    "scaled_mae = validation_mae * 1000\n",
    "print(scaled_mae)\n",
    "# 106.5203994512558 wiec slabo\n",
    "\n"
   ]
  },
  {
   "cell_type": "code",
   "execution_count": 135,
   "id": "07fc97a4",
   "metadata": {},
   "outputs": [],
   "source": [
    "mae_rnn1 = (scaled_mae)\n",
    "\n",
    "with open('mae_rnn1.pkl', 'wb') as file:\n",
    "    pickle.dump(mae_rnn1, file)"
   ]
  },
  {
   "cell_type": "code",
   "execution_count": 136,
   "id": "fb045794",
   "metadata": {},
   "outputs": [],
   "source": [
    "model = tf.keras.Sequential([\n",
    "    tf.keras.Input(shape=[None, 1]),\n",
    "    tf.keras.layers.LSTM(32),\n",
    "    tf.keras.layers.Dense(1)\n",
    "])\n",
    "\n"
   ]
  },
  {
   "cell_type": "code",
   "execution_count": 137,
   "id": "7bf2c4a4",
   "metadata": {},
   "outputs": [],
   "source": [
    "optimizer = tf.keras.optimizers.Adam(learning_rate=0.001)\n",
    "model.compile(loss=tf.keras.losses.Huber(), optimizer=optimizer,\n",
    "              metrics=['mae'])\n"
   ]
  },
  {
   "cell_type": "code",
   "execution_count": 138,
   "id": "f36ad984",
   "metadata": {},
   "outputs": [
    {
     "name": "stdout",
     "output_type": "stream",
     "text": [
      "Epoch 1/20\n",
      "\u001b[1m410/410\u001b[0m \u001b[32m━━━━━━━━━━━━━━━━━━━━\u001b[0m\u001b[37m\u001b[0m \u001b[1m15s\u001b[0m 26ms/step - loss: 0.0065 - mae: 0.0820 - val_loss: 0.0054 - val_mae: 0.0661\n",
      "Epoch 2/20\n",
      "\u001b[1m410/410\u001b[0m \u001b[32m━━━━━━━━━━━━━━━━━━━━\u001b[0m\u001b[37m\u001b[0m \u001b[1m9s\u001b[0m 22ms/step - loss: 0.0026 - mae: 0.0474 - val_loss: 0.0045 - val_mae: 0.0606\n",
      "Epoch 3/20\n",
      "\u001b[1m410/410\u001b[0m \u001b[32m━━━━━━━━━━━━━━━━━━━━\u001b[0m\u001b[37m\u001b[0m \u001b[1m9s\u001b[0m 22ms/step - loss: 0.0023 - mae: 0.0437 - val_loss: 0.0045 - val_mae: 0.0689\n",
      "Epoch 4/20\n",
      "\u001b[1m410/410\u001b[0m \u001b[32m━━━━━━━━━━━━━━━━━━━━\u001b[0m\u001b[37m\u001b[0m \u001b[1m9s\u001b[0m 22ms/step - loss: 0.0022 - mae: 0.0437 - val_loss: 0.0040 - val_mae: 0.0599\n",
      "Epoch 5/20\n",
      "\u001b[1m410/410\u001b[0m \u001b[32m━━━━━━━━━━━━━━━━━━━━\u001b[0m\u001b[37m\u001b[0m \u001b[1m7s\u001b[0m 16ms/step - loss: 0.0022 - mae: 0.0437 - val_loss: 0.0039 - val_mae: 0.0598\n",
      "Epoch 6/20\n",
      "\u001b[1m410/410\u001b[0m \u001b[32m━━━━━━━━━━━━━━━━━━━━\u001b[0m\u001b[37m\u001b[0m \u001b[1m5s\u001b[0m 11ms/step - loss: 0.0021 - mae: 0.0423 - val_loss: 0.0040 - val_mae: 0.0576\n",
      "Epoch 7/20\n",
      "\u001b[1m410/410\u001b[0m \u001b[32m━━━━━━━━━━━━━━━━━━━━\u001b[0m\u001b[37m\u001b[0m \u001b[1m7s\u001b[0m 16ms/step - loss: 0.0021 - mae: 0.0419 - val_loss: 0.0036 - val_mae: 0.0571\n",
      "Epoch 8/20\n",
      "\u001b[1m410/410\u001b[0m \u001b[32m━━━━━━━━━━━━━━━━━━━━\u001b[0m\u001b[37m\u001b[0m \u001b[1m9s\u001b[0m 22ms/step - loss: 0.0019 - mae: 0.0405 - val_loss: 0.0033 - val_mae: 0.0532\n",
      "Epoch 9/20\n",
      "\u001b[1m410/410\u001b[0m \u001b[32m━━━━━━━━━━━━━━━━━━━━\u001b[0m\u001b[37m\u001b[0m \u001b[1m10s\u001b[0m 23ms/step - loss: 0.0019 - mae: 0.0397 - val_loss: 0.0029 - val_mae: 0.0496\n",
      "Epoch 10/20\n",
      "\u001b[1m410/410\u001b[0m \u001b[32m━━━━━━━━━━━━━━━━━━━━\u001b[0m\u001b[37m\u001b[0m \u001b[1m10s\u001b[0m 24ms/step - loss: 0.0017 - mae: 0.0380 - val_loss: 0.0025 - val_mae: 0.0464\n",
      "Epoch 11/20\n",
      "\u001b[1m410/410\u001b[0m \u001b[32m━━━━━━━━━━━━━━━━━━━━\u001b[0m\u001b[37m\u001b[0m \u001b[1m10s\u001b[0m 24ms/step - loss: 0.0015 - mae: 0.0355 - val_loss: 0.0026 - val_mae: 0.0458\n",
      "Epoch 12/20\n",
      "\u001b[1m410/410\u001b[0m \u001b[32m━━━━━━━━━━━━━━━━━━━━\u001b[0m\u001b[37m\u001b[0m \u001b[1m10s\u001b[0m 24ms/step - loss: 0.0014 - mae: 0.0347 - val_loss: 0.0025 - val_mae: 0.0459\n",
      "Epoch 13/20\n",
      "\u001b[1m410/410\u001b[0m \u001b[32m━━━━━━━━━━━━━━━━━━━━\u001b[0m\u001b[37m\u001b[0m \u001b[1m10s\u001b[0m 24ms/step - loss: 0.0013 - mae: 0.0337 - val_loss: 0.0023 - val_mae: 0.0443\n",
      "Epoch 14/20\n",
      "\u001b[1m410/410\u001b[0m \u001b[32m━━━━━━━━━━━━━━━━━━━━\u001b[0m\u001b[37m\u001b[0m \u001b[1m10s\u001b[0m 24ms/step - loss: 0.0013 - mae: 0.0329 - val_loss: 0.0021 - val_mae: 0.0422\n",
      "Epoch 15/20\n",
      "\u001b[1m410/410\u001b[0m \u001b[32m━━━━━━━━━━━━━━━━━━━━\u001b[0m\u001b[37m\u001b[0m \u001b[1m10s\u001b[0m 24ms/step - loss: 0.0012 - mae: 0.0326 - val_loss: 0.0025 - val_mae: 0.0452\n",
      "Epoch 16/20\n",
      "\u001b[1m410/410\u001b[0m \u001b[32m━━━━━━━━━━━━━━━━━━━━\u001b[0m\u001b[37m\u001b[0m \u001b[1m10s\u001b[0m 24ms/step - loss: 0.0012 - mae: 0.0319 - val_loss: 0.0021 - val_mae: 0.0414\n",
      "Epoch 17/20\n",
      "\u001b[1m410/410\u001b[0m \u001b[32m━━━━━━━━━━━━━━━━━━━━\u001b[0m\u001b[37m\u001b[0m \u001b[1m10s\u001b[0m 24ms/step - loss: 0.0011 - mae: 0.0306 - val_loss: 0.0022 - val_mae: 0.0427\n",
      "Epoch 18/20\n",
      "\u001b[1m410/410\u001b[0m \u001b[32m━━━━━━━━━━━━━━━━━━━━\u001b[0m\u001b[37m\u001b[0m \u001b[1m10s\u001b[0m 24ms/step - loss: 0.0011 - mae: 0.0309 - val_loss: 0.0019 - val_mae: 0.0412\n",
      "Epoch 19/20\n",
      "\u001b[1m410/410\u001b[0m \u001b[32m━━━━━━━━━━━━━━━━━━━━\u001b[0m\u001b[37m\u001b[0m \u001b[1m10s\u001b[0m 24ms/step - loss: 0.0011 - mae: 0.0306 - val_loss: 0.0021 - val_mae: 0.0452\n",
      "Epoch 20/20\n",
      "\u001b[1m410/410\u001b[0m \u001b[32m━━━━━━━━━━━━━━━━━━━━\u001b[0m\u001b[37m\u001b[0m \u001b[1m9s\u001b[0m 21ms/step - loss: 0.0011 - mae: 0.0303 - val_loss: 0.0024 - val_mae: 0.0448\n"
     ]
    }
   ],
   "source": [
    "history = model.fit(train_ds, epochs=20, validation_data=valid_ds)\n"
   ]
  },
  {
   "cell_type": "code",
   "execution_count": null,
   "id": "370370a7",
   "metadata": {},
   "outputs": [
    {
     "name": "stdout",
     "output_type": "stream",
     "text": [
      "44.81298476457596\n"
     ]
    }
   ],
   "source": [
    "validation_mae = history.history['val_mae'][-1]\n",
    "scaled_mae = validation_mae * 1000\n",
    "print(scaled_mae)\n",
    "#  44.81298476457596 wiec znacznie lepiej\n"
   ]
  },
  {
   "cell_type": "code",
   "execution_count": 140,
   "id": "0cb5acfb",
   "metadata": {},
   "outputs": [],
   "source": [
    "model.save('model_rnn32.keras')\n",
    "\n",
    "mae_rnn32 = (scaled_mae)\n",
    "\n",
    "with open('mae_rnn32.pkl', 'wb') as file:\n",
    "    pickle.dump(mae_rnn32, file)"
   ]
  },
  {
   "cell_type": "markdown",
   "id": "0b616470",
   "metadata": {},
   "source": [
    "## 2.6 Głęboka RNN\n"
   ]
  },
  {
   "cell_type": "code",
   "execution_count": 141,
   "id": "6530bc66",
   "metadata": {},
   "outputs": [],
   "source": [
    "model = tf.keras.Sequential([\n",
    "    tf.keras.layers.Input(shape=[None, 1]),\n",
    "    tf.keras.layers.LSTM(32, return_sequences=True),\n",
    "    tf.keras.layers.LSTM(32, return_sequences=True),\n",
    "    tf.keras.layers.LSTM(32, return_sequences=True),\n",
    "    tf.keras.layers.LSTM(1)\n",
    "])\n"
   ]
  },
  {
   "cell_type": "code",
   "execution_count": 142,
   "id": "9fd8a59b",
   "metadata": {},
   "outputs": [],
   "source": [
    "optimizer = tf.keras.optimizers.Adam(learning_rate=0.001)\n",
    "model.compile(loss=tf.keras.losses.Huber(), optimizer=optimizer,\n",
    "              metrics=['mae'])\n",
    "\n"
   ]
  },
  {
   "cell_type": "code",
   "execution_count": 143,
   "id": "5f0440ee",
   "metadata": {},
   "outputs": [
    {
     "name": "stdout",
     "output_type": "stream",
     "text": [
      "Epoch 1/20\n",
      "\u001b[1m410/410\u001b[0m \u001b[32m━━━━━━━━━━━━━━━━━━━━\u001b[0m\u001b[37m\u001b[0m \u001b[1m35s\u001b[0m 46ms/step - loss: 0.0114 - mae: 0.1136 - val_loss: 0.0132 - val_mae: 0.1129\n",
      "Epoch 2/20\n",
      "\u001b[1m410/410\u001b[0m \u001b[32m━━━━━━━━━━━━━━━━━━━━\u001b[0m\u001b[37m\u001b[0m \u001b[1m15s\u001b[0m 37ms/step - loss: 0.0061 - mae: 0.0801 - val_loss: 0.0122 - val_mae: 0.1072\n",
      "Epoch 3/20\n",
      "\u001b[1m410/410\u001b[0m \u001b[32m━━━━━━━━━━━━━━━━━━━━\u001b[0m\u001b[37m\u001b[0m \u001b[1m15s\u001b[0m 37ms/step - loss: 0.0055 - mae: 0.0759 - val_loss: 0.0093 - val_mae: 0.0962\n",
      "Epoch 4/20\n",
      "\u001b[1m410/410\u001b[0m \u001b[32m━━━━━━━━━━━━━━━━━━━━\u001b[0m\u001b[37m\u001b[0m \u001b[1m16s\u001b[0m 38ms/step - loss: 0.0050 - mae: 0.0718 - val_loss: 0.0079 - val_mae: 0.0889\n",
      "Epoch 5/20\n",
      "\u001b[1m410/410\u001b[0m \u001b[32m━━━━━━━━━━━━━━━━━━━━\u001b[0m\u001b[37m\u001b[0m \u001b[1m16s\u001b[0m 39ms/step - loss: 0.0044 - mae: 0.0657 - val_loss: 0.0072 - val_mae: 0.0803\n",
      "Epoch 6/20\n",
      "\u001b[1m410/410\u001b[0m \u001b[32m━━━━━━━━━━━━━━━━━━━━\u001b[0m\u001b[37m\u001b[0m \u001b[1m18s\u001b[0m 43ms/step - loss: 0.0040 - mae: 0.0611 - val_loss: 0.0068 - val_mae: 0.0769\n",
      "Epoch 7/20\n",
      "\u001b[1m410/410\u001b[0m \u001b[32m━━━━━━━━━━━━━━━━━━━━\u001b[0m\u001b[37m\u001b[0m \u001b[1m18s\u001b[0m 43ms/step - loss: 0.0034 - mae: 0.0550 - val_loss: 0.0058 - val_mae: 0.0685\n",
      "Epoch 8/20\n",
      "\u001b[1m410/410\u001b[0m \u001b[32m━━━━━━━━━━━━━━━━━━━━\u001b[0m\u001b[37m\u001b[0m \u001b[1m19s\u001b[0m 47ms/step - loss: 0.0024 - mae: 0.0462 - val_loss: 0.0036 - val_mae: 0.0603\n",
      "Epoch 9/20\n",
      "\u001b[1m410/410\u001b[0m \u001b[32m━━━━━━━━━━━━━━━━━━━━\u001b[0m\u001b[37m\u001b[0m \u001b[1m27s\u001b[0m 66ms/step - loss: 0.0015 - mae: 0.0368 - val_loss: 0.0028 - val_mae: 0.0496\n",
      "Epoch 10/20\n",
      "\u001b[1m410/410\u001b[0m \u001b[32m━━━━━━━━━━━━━━━━━━━━\u001b[0m\u001b[37m\u001b[0m \u001b[1m25s\u001b[0m 62ms/step - loss: 0.0012 - mae: 0.0331 - val_loss: 0.0028 - val_mae: 0.0476\n",
      "Epoch 11/20\n",
      "\u001b[1m410/410\u001b[0m \u001b[32m━━━━━━━━━━━━━━━━━━━━\u001b[0m\u001b[37m\u001b[0m \u001b[1m26s\u001b[0m 63ms/step - loss: 0.0011 - mae: 0.0307 - val_loss: 0.0020 - val_mae: 0.0398\n",
      "Epoch 12/20\n",
      "\u001b[1m410/410\u001b[0m \u001b[32m━━━━━━━━━━━━━━━━━━━━\u001b[0m\u001b[37m\u001b[0m \u001b[1m28s\u001b[0m 68ms/step - loss: 0.0010 - mae: 0.0302 - val_loss: 0.0020 - val_mae: 0.0426\n",
      "Epoch 13/20\n",
      "\u001b[1m410/410\u001b[0m \u001b[32m━━━━━━━━━━━━━━━━━━━━\u001b[0m\u001b[37m\u001b[0m \u001b[1m20s\u001b[0m 48ms/step - loss: 9.7995e-04 - mae: 0.0296 - val_loss: 0.0020 - val_mae: 0.0405\n",
      "Epoch 14/20\n",
      "\u001b[1m410/410\u001b[0m \u001b[32m━━━━━━━━━━━━━━━━━━━━\u001b[0m\u001b[37m\u001b[0m \u001b[1m20s\u001b[0m 50ms/step - loss: 8.8574e-04 - mae: 0.0276 - val_loss: 0.0021 - val_mae: 0.0406\n",
      "Epoch 15/20\n",
      "\u001b[1m410/410\u001b[0m \u001b[32m━━━━━━━━━━━━━━━━━━━━\u001b[0m\u001b[37m\u001b[0m \u001b[1m17s\u001b[0m 42ms/step - loss: 8.6518e-04 - mae: 0.0278 - val_loss: 0.0019 - val_mae: 0.0393\n",
      "Epoch 16/20\n",
      "\u001b[1m410/410\u001b[0m \u001b[32m━━━━━━━━━━━━━━━━━━━━\u001b[0m\u001b[37m\u001b[0m \u001b[1m16s\u001b[0m 39ms/step - loss: 8.2702e-04 - mae: 0.0268 - val_loss: 0.0020 - val_mae: 0.0412\n",
      "Epoch 17/20\n",
      "\u001b[1m410/410\u001b[0m \u001b[32m━━━━━━━━━━━━━━━━━━━━\u001b[0m\u001b[37m\u001b[0m \u001b[1m15s\u001b[0m 36ms/step - loss: 8.1219e-04 - mae: 0.0268 - val_loss: 0.0022 - val_mae: 0.0409\n",
      "Epoch 18/20\n",
      "\u001b[1m410/410\u001b[0m \u001b[32m━━━━━━━━━━━━━━━━━━━━\u001b[0m\u001b[37m\u001b[0m \u001b[1m14s\u001b[0m 35ms/step - loss: 8.0225e-04 - mae: 0.0263 - val_loss: 0.0015 - val_mae: 0.0358\n",
      "Epoch 19/20\n",
      "\u001b[1m410/410\u001b[0m \u001b[32m━━━━━━━━━━━━━━━━━━━━\u001b[0m\u001b[37m\u001b[0m \u001b[1m14s\u001b[0m 35ms/step - loss: 7.7955e-04 - mae: 0.0261 - val_loss: 0.0017 - val_mae: 0.0369\n",
      "Epoch 20/20\n",
      "\u001b[1m410/410\u001b[0m \u001b[32m━━━━━━━━━━━━━━━━━━━━\u001b[0m\u001b[37m\u001b[0m \u001b[1m15s\u001b[0m 36ms/step - loss: 7.6280e-04 - mae: 0.0257 - val_loss: 0.0016 - val_mae: 0.0366\n"
     ]
    }
   ],
   "source": [
    "history = model.fit(train_ds, epochs=20, validation_data=valid_ds)\n"
   ]
  },
  {
   "cell_type": "code",
   "execution_count": null,
   "id": "7325168c",
   "metadata": {},
   "outputs": [
    {
     "name": "stdout",
     "output_type": "stream",
     "text": [
      "36.5825854241848\n"
     ]
    }
   ],
   "source": [
    "validation_mae = history.history['val_mae'][-1]\n",
    "scaled_mae = validation_mae * 1000\n",
    "print(scaled_mae)\n",
    "\n",
    "# 36.5825854241848 wiec to jescze lepiej"
   ]
  },
  {
   "cell_type": "code",
   "execution_count": 145,
   "id": "aba2d87a",
   "metadata": {},
   "outputs": [],
   "source": [
    "model.save('model_rnn_deep.keras')\n",
    "\n",
    "mae_rnn_deep = (scaled_mae)\n",
    "with open('mae_rnn_deep.pkl', 'wb') as file:\n",
    "    pickle.dump(mae_rnn_deep, file)"
   ]
  },
  {
   "cell_type": "markdown",
   "id": "84fde12c",
   "metadata": {},
   "source": [
    "## 2.7 Model wielowymiarowy"
   ]
  },
  {
   "cell_type": "code",
   "execution_count": 157,
   "id": "de495567",
   "metadata": {},
   "outputs": [],
   "source": [
    "feature_cols = ['cnt', 'weathersit', 'atemp', 'workingday']\n",
    "\n",
    "X_train_mv_df = df[feature_cols]['2011-01-01 00:00':'2012-06-30 23:00']\n",
    "X_valid_mv_df = df[feature_cols]['2012-07-01 00:00':]\n",
    "\n",
    "y_train_mv_series = df['cnt']['2011-01-01 00:00':'2012-06-30 23:00']\n",
    "y_valid_mv_series = df['cnt']['2012-07-01 00:00':]\n",
    "\n",
    "seq_len = 1 * 24\n",
    "\n",
    "# timeseries_dataset_from_array() - tworzy okna dancyh wejsciowych z etykietami\n",
    "# seq_len  - definiuje dlugosc sekwencji wejsciowej (wielkosc okna) na 24 rekordy czyli jedna doba\n",
    "\n",
    "# chodzi o to ze na podstawie 24 godizn model ma przewidziec kolejna wartosc jaka bedzie w 25 godzinie jakby\n",
    "\n",
    "train_ds = tf.keras.utils.timeseries_dataset_from_array(\n",
    "    X_train_mv_df.to_numpy(),               # dane wejsciowe jako tablica numpy\n",
    "    targets=y_train_mv_series.to_numpy()[seq_len:],        # wartosci docelowe ktore model ma przewidziec\n",
    "    sequence_length=seq_len,            # kazda probka bedzie miala dlugosc 24\n",
    "    batch_size=32,                      # dane beda pogrupowane po 32 paczki\n",
    "    shuffle=True,                       # przetasowanie\n",
    "    seed=42                             \n",
    ")\n",
    "\n",
    "valid_ds = tf.keras.utils.timeseries_dataset_from_array(\n",
    "    X_valid_mv_df.to_numpy(),\n",
    "    targets=y_valid_mv_series.to_numpy()[seq_len:],\n",
    "    sequence_length=seq_len,\n",
    "    batch_size=32\n",
    ")"
   ]
  },
  {
   "cell_type": "code",
   "execution_count": 158,
   "id": "592c5368",
   "metadata": {},
   "outputs": [],
   "source": [
    "model = tf.keras.Sequential([\n",
    "    tf.keras.Input(shape=[None, 4]),\n",
    "    tf.keras.layers.LSTM(32),\n",
    "    tf.keras.layers.Dense(1)\n",
    "])"
   ]
  },
  {
   "cell_type": "code",
   "execution_count": 159,
   "id": "27b5770e",
   "metadata": {},
   "outputs": [],
   "source": [
    "optimizer = tf.keras.optimizers.Adam(learning_rate=0.001)\n",
    "model.compile(loss=tf.keras.losses.Huber(), optimizer=optimizer,\n",
    "              metrics=['mae'])\n",
    "\n"
   ]
  },
  {
   "cell_type": "code",
   "execution_count": 160,
   "id": "970bbf51",
   "metadata": {},
   "outputs": [
    {
     "name": "stdout",
     "output_type": "stream",
     "text": [
      "Epoch 1/20\n",
      "\u001b[1m410/410\u001b[0m \u001b[32m━━━━━━━━━━━━━━━━━━━━\u001b[0m\u001b[37m\u001b[0m \u001b[1m8s\u001b[0m 13ms/step - loss: 0.0088 - mae: 0.0970 - val_loss: 0.0076 - val_mae: 0.0794\n",
      "Epoch 2/20\n",
      "\u001b[1m410/410\u001b[0m \u001b[32m━━━━━━━━━━━━━━━━━━━━\u001b[0m\u001b[37m\u001b[0m \u001b[1m5s\u001b[0m 13ms/step - loss: 0.0031 - mae: 0.0542 - val_loss: 0.0046 - val_mae: 0.0627\n",
      "Epoch 3/20\n",
      "\u001b[1m410/410\u001b[0m \u001b[32m━━━━━━━━━━━━━━━━━━━━\u001b[0m\u001b[37m\u001b[0m \u001b[1m5s\u001b[0m 11ms/step - loss: 0.0021 - mae: 0.0438 - val_loss: 0.0036 - val_mae: 0.0549\n",
      "Epoch 4/20\n",
      "\u001b[1m410/410\u001b[0m \u001b[32m━━━━━━━━━━━━━━━━━━━━\u001b[0m\u001b[37m\u001b[0m \u001b[1m5s\u001b[0m 12ms/step - loss: 0.0018 - mae: 0.0407 - val_loss: 0.0043 - val_mae: 0.0633\n",
      "Epoch 5/20\n",
      "\u001b[1m410/410\u001b[0m \u001b[32m━━━━━━━━━━━━━━━━━━━━\u001b[0m\u001b[37m\u001b[0m \u001b[1m6s\u001b[0m 14ms/step - loss: 0.0019 - mae: 0.0420 - val_loss: 0.0032 - val_mae: 0.0521\n",
      "Epoch 6/20\n",
      "\u001b[1m410/410\u001b[0m \u001b[32m━━━━━━━━━━━━━━━━━━━━\u001b[0m\u001b[37m\u001b[0m \u001b[1m5s\u001b[0m 12ms/step - loss: 0.0016 - mae: 0.0381 - val_loss: 0.0031 - val_mae: 0.0504\n",
      "Epoch 7/20\n",
      "\u001b[1m410/410\u001b[0m \u001b[32m━━━━━━━━━━━━━━━━━━━━\u001b[0m\u001b[37m\u001b[0m \u001b[1m5s\u001b[0m 13ms/step - loss: 0.0014 - mae: 0.0360 - val_loss: 0.0035 - val_mae: 0.0542\n",
      "Epoch 8/20\n",
      "\u001b[1m410/410\u001b[0m \u001b[32m━━━━━━━━━━━━━━━━━━━━\u001b[0m\u001b[37m\u001b[0m \u001b[1m5s\u001b[0m 13ms/step - loss: 0.0014 - mae: 0.0357 - val_loss: 0.0032 - val_mae: 0.0524\n",
      "Epoch 9/20\n",
      "\u001b[1m410/410\u001b[0m \u001b[32m━━━━━━━━━━━━━━━━━━━━\u001b[0m\u001b[37m\u001b[0m \u001b[1m5s\u001b[0m 13ms/step - loss: 0.0014 - mae: 0.0350 - val_loss: 0.0027 - val_mae: 0.0469\n",
      "Epoch 10/20\n",
      "\u001b[1m410/410\u001b[0m \u001b[32m━━━━━━━━━━━━━━━━━━━━\u001b[0m\u001b[37m\u001b[0m \u001b[1m5s\u001b[0m 13ms/step - loss: 0.0013 - mae: 0.0348 - val_loss: 0.0027 - val_mae: 0.0492\n",
      "Epoch 11/20\n",
      "\u001b[1m410/410\u001b[0m \u001b[32m━━━━━━━━━━━━━━━━━━━━\u001b[0m\u001b[37m\u001b[0m \u001b[1m5s\u001b[0m 13ms/step - loss: 0.0012 - mae: 0.0336 - val_loss: 0.0026 - val_mae: 0.0465\n",
      "Epoch 12/20\n",
      "\u001b[1m410/410\u001b[0m \u001b[32m━━━━━━━━━━━━━━━━━━━━\u001b[0m\u001b[37m\u001b[0m \u001b[1m5s\u001b[0m 13ms/step - loss: 0.0012 - mae: 0.0333 - val_loss: 0.0024 - val_mae: 0.0443\n",
      "Epoch 13/20\n",
      "\u001b[1m410/410\u001b[0m \u001b[32m━━━━━━━━━━━━━━━━━━━━\u001b[0m\u001b[37m\u001b[0m \u001b[1m6s\u001b[0m 14ms/step - loss: 0.0012 - mae: 0.0323 - val_loss: 0.0022 - val_mae: 0.0431\n",
      "Epoch 14/20\n",
      "\u001b[1m410/410\u001b[0m \u001b[32m━━━━━━━━━━━━━━━━━━━━\u001b[0m\u001b[37m\u001b[0m \u001b[1m6s\u001b[0m 14ms/step - loss: 0.0012 - mae: 0.0330 - val_loss: 0.0022 - val_mae: 0.0437\n",
      "Epoch 15/20\n",
      "\u001b[1m410/410\u001b[0m \u001b[32m━━━━━━━━━━━━━━━━━━━━\u001b[0m\u001b[37m\u001b[0m \u001b[1m5s\u001b[0m 13ms/step - loss: 0.0012 - mae: 0.0320 - val_loss: 0.0020 - val_mae: 0.0419\n",
      "Epoch 16/20\n",
      "\u001b[1m410/410\u001b[0m \u001b[32m━━━━━━━━━━━━━━━━━━━━\u001b[0m\u001b[37m\u001b[0m \u001b[1m5s\u001b[0m 13ms/step - loss: 0.0011 - mae: 0.0316 - val_loss: 0.0020 - val_mae: 0.0413\n",
      "Epoch 17/20\n",
      "\u001b[1m410/410\u001b[0m \u001b[32m━━━━━━━━━━━━━━━━━━━━\u001b[0m\u001b[37m\u001b[0m \u001b[1m5s\u001b[0m 12ms/step - loss: 0.0011 - mae: 0.0307 - val_loss: 0.0019 - val_mae: 0.0401\n",
      "Epoch 18/20\n",
      "\u001b[1m410/410\u001b[0m \u001b[32m━━━━━━━━━━━━━━━━━━━━\u001b[0m\u001b[37m\u001b[0m \u001b[1m5s\u001b[0m 13ms/step - loss: 0.0011 - mae: 0.0310 - val_loss: 0.0018 - val_mae: 0.0398\n",
      "Epoch 19/20\n",
      "\u001b[1m410/410\u001b[0m \u001b[32m━━━━━━━━━━━━━━━━━━━━\u001b[0m\u001b[37m\u001b[0m \u001b[1m5s\u001b[0m 13ms/step - loss: 0.0010 - mae: 0.0299 - val_loss: 0.0017 - val_mae: 0.0394\n",
      "Epoch 20/20\n",
      "\u001b[1m410/410\u001b[0m \u001b[32m━━━━━━━━━━━━━━━━━━━━\u001b[0m\u001b[37m\u001b[0m \u001b[1m5s\u001b[0m 12ms/step - loss: 9.8170e-04 - mae: 0.0296 - val_loss: 0.0017 - val_mae: 0.0392\n"
     ]
    }
   ],
   "source": [
    "history = model.fit(train_ds, epochs=20, validation_data=valid_ds)\n"
   ]
  },
  {
   "cell_type": "code",
   "execution_count": 161,
   "id": "9a7fe0c4",
   "metadata": {},
   "outputs": [
    {
     "name": "stdout",
     "output_type": "stream",
     "text": [
      "39.15490210056305\n"
     ]
    }
   ],
   "source": [
    "validation_mae = history.history['val_mae'][-1]\n",
    "scaled_mae = validation_mae * 1000\n",
    "print(scaled_mae)\n",
    "\n"
   ]
  },
  {
   "cell_type": "code",
   "execution_count": null,
   "id": "e5c76172",
   "metadata": {},
   "outputs": [],
   "source": [
    "model.save('model_rnn_mv.keras')\n",
    "\n",
    "mae_rnn_mv = (scaled_mae)\n",
    "with open('mae_rnn_mv.pkl', 'wb') as file:\n",
    "    pickle.dump(mae_rnn_mv, file)"
   ]
  }
 ],
 "metadata": {
  "kernelspec": {
   "display_name": "ml",
   "language": "python",
   "name": "python3"
  },
  "language_info": {
   "codemirror_mode": {
    "name": "ipython",
    "version": 3
   },
   "file_extension": ".py",
   "mimetype": "text/x-python",
   "name": "python",
   "nbconvert_exporter": "python",
   "pygments_lexer": "ipython3",
   "version": "3.11.11"
  }
 },
 "nbformat": 4,
 "nbformat_minor": 5
}
