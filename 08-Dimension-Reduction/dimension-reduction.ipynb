{
 "cells": [
  {
   "cell_type": "markdown",
   "id": "225cd7c4",
   "metadata": {},
   "source": [
    "# Dimension Reduction"
   ]
  },
  {
   "cell_type": "markdown",
   "id": "256ad876",
   "metadata": {},
   "source": [
    "## Preparing data"
   ]
  },
  {
   "cell_type": "code",
   "execution_count": 1,
   "id": "4134ee0f",
   "metadata": {},
   "outputs": [],
   "source": [
    "from sklearn import datasets\n",
    "from sklearn.datasets import load_iris\n",
    "\n",
    "data_breast_cancer = datasets.load_breast_cancer()\n",
    "data_iris = load_iris()\n",
    "\n",
    "X_bc = data_breast_cancer.data\n",
    "X_iris = data_iris.data"
   ]
  },
  {
   "cell_type": "markdown",
   "id": "1e2f095b",
   "metadata": {},
   "source": [
    "## PCA (Principal Component Analysis)"
   ]
  },
  {
   "cell_type": "markdown",
   "id": "e6a6e2a6",
   "metadata": {},
   "source": [
    "### Without scaling"
   ]
  },
  {
   "cell_type": "markdown",
   "id": "f283160e",
   "metadata": {},
   "source": [
    "1. Przeprowadź analizę PCA, tak aby tak zredukować liczbę wymiarów dla każdego z w/w\n",
    "zbiorów. Nowa przestrzeń ma pokrywać przynajmniej 90% różnorodności (zmienności) danych\n",
    "i ma mieć jak najmniej wymiarów."
   ]
  },
  {
   "cell_type": "code",
   "execution_count": 2,
   "id": "1f3721ef",
   "metadata": {},
   "outputs": [
    {
     "name": "stdout",
     "output_type": "stream",
     "text": [
      "Before scaling: \n",
      "Breast cancer:\n",
      "(569, 30) --> (569, 1)\n",
      "[0.98204467]\n",
      "\n",
      "Iris:\n",
      "(150, 4) --> (150, 1)\n",
      "[0.92461872]\n"
     ]
    }
   ],
   "source": [
    "from sklearn.decomposition import PCA\n",
    "\n",
    "pca_bc = PCA(n_components=0.9)\n",
    "X_bc_90 = pca_bc.fit_transform(X_bc)\n",
    "print(\"Before scaling: \")\n",
    "print('Breast cancer:')\n",
    "print(X_bc.shape,'-->', X_bc_90.shape)\n",
    "print(pca_bc.explained_variance_ratio_)\n",
    "\n",
    "print()\n",
    "\n",
    "pca_iris = PCA(n_components=0.90)\n",
    "X_iris_90 = pca_iris.fit_transform(X_iris)\n",
    "print('Iris:')\n",
    "print(X_iris.shape,'-->', X_iris_90.shape)\n",
    "print(pca_iris.explained_variance_ratio_)"
   ]
  },
  {
   "cell_type": "markdown",
   "id": "aa5a1fe1",
   "metadata": {},
   "source": [
    "2. Ćwiczenia przeprowadź najpierw na oryginalnych danych, a później na danych\n",
    "przeskalowanych. Porównaj wyniki.\n",
    "W podanych zbiorach są istotnie różne zakresy dla poszczególnych cech. Aby je przeskalować,\n",
    "by były porównywalne, użyj StandardScaler(). Klasa PCA() centruje dane automatycznie,\n",
    "ale ich nie skaluje!\n"
   ]
  },
  {
   "cell_type": "markdown",
   "id": "e8db6c20",
   "metadata": {},
   "source": [
    "### With scaling"
   ]
  },
  {
   "cell_type": "code",
   "execution_count": 3,
   "id": "c0010482",
   "metadata": {},
   "outputs": [
    {
     "name": "stdout",
     "output_type": "stream",
     "text": [
      "After scaling: \n",
      "Breast cancer:\n",
      "(569, 30) --> (569, 7)\n",
      "[0.44272026 0.18971182 0.09393163 0.06602135 0.05495768 0.04024522\n",
      " 0.02250734]\n",
      "\n",
      "Iris:\n",
      "(150, 4) --> (150, 2)\n",
      "[0.72962445 0.22850762]\n"
     ]
    }
   ],
   "source": [
    "from sklearn.preprocessing import StandardScaler\n",
    "\n",
    "scaler_bc = StandardScaler()\n",
    "scaler_iris = StandardScaler()\n",
    "\n",
    "X_bc_scaled = scaler_bc.fit_transform(X_bc)\n",
    "X_iris_scaled = scaler_iris.fit_transform(X_iris)\n",
    "\n",
    "pca_bc_sc = PCA(n_components=0.90)\n",
    "X_bc_90_scaled = pca_bc_sc.fit_transform(X_bc_scaled)\n",
    "\n",
    "pca_iris_sc = PCA(n_components=0.9)\n",
    "X_iris_90_scaled = pca_iris_sc.fit_transform(X_iris_scaled)\n",
    "\n",
    "print(\"After scaling: \")\n",
    "print('Breast cancer:')\n",
    "print(X_bc_scaled.shape,'-->', X_bc_90_scaled.shape)\n",
    "print(pca_bc_sc.explained_variance_ratio_)\n",
    "\n",
    "print()\n",
    "\n",
    "print('Iris:')\n",
    "print(X_iris_scaled.shape,'-->', X_iris_90_scaled.shape)\n",
    "print(pca_iris_sc.explained_variance_ratio_)\n"
   ]
  },
  {
   "cell_type": "markdown",
   "id": "b9fc7cde",
   "metadata": {},
   "source": [
    "## Saving results"
   ]
  },
  {
   "cell_type": "markdown",
   "id": "cbd31522",
   "metadata": {},
   "source": [
    "3. Utwórz listę z współczynnikami zmienności nowych wymiarów (dla danych przeskalowanych).\n",
    "W przypadku data_breast_cancer listę zapisz w pliku Pickle o nazwie pca_bc.pkl\n",
    "3 pkt.\n",
    "W przypadku data_iris listę zapisz w pliku Pickle o nazwie pca_ir.pkl\n",
    "3 pkt."
   ]
  },
  {
   "cell_type": "code",
   "execution_count": 4,
   "id": "45d05a70",
   "metadata": {},
   "outputs": [
    {
     "name": "stdout",
     "output_type": "stream",
     "text": [
      "[0.44272026 0.18971182 0.09393163 0.06602135 0.05495768 0.04024522\n",
      " 0.02250734]\n",
      "[0.72962445 0.22850762]\n"
     ]
    }
   ],
   "source": [
    "import pickle\n",
    "\n",
    "bc_scaled_evr = pca_bc_sc.explained_variance_ratio_\n",
    "print(bc_scaled_evr)\n",
    "\n",
    "iris_scaled_evr = pca_iris_sc.explained_variance_ratio_\n",
    "print(iris_scaled_evr)\n",
    "\n",
    "with open('pca_bc.pkl', 'wb') as file:\n",
    "    pickle.dump(bc_scaled_evr, file)\n",
    "\n",
    "with open('pca_ir.pkl', 'wb') as file:\n",
    "    pickle.dump(iris_scaled_evr, file)\n",
    "\n"
   ]
  },
  {
   "cell_type": "markdown",
   "id": "1334cb9e",
   "metadata": {},
   "source": [
    "4. Dla danych przeskalowanych utwórz listę indeksów cech oryginalnych wymiarów, w kolejności\n",
    "od cechy, która ma największy udział w nowych cechach, do tej, która ma najmniejszy.\n",
    "Podpowiedź: zob. atrybut components_ klasy PCA, użyj wartości w\n",
    "explained_variance_ratio_ jako wagę istotności udziałów starych cech w nowych\n",
    "cechach, czyli pomnóż components_ przez explained_variance_ratio. W otrzymanej\n",
    "macierzy oblicz wartość bezwzględne dla każdej wartości (bo mogą być zarówno dodatnie jak i ujemne). Im większa wartość tym większy udział starego wymiaru w nowym.\n",
    "Posortuj wartości rosnąco, znajdź odpowiadające im indeksy starych cech i zapisz jako listę\n",
    "bez powtórzeń. Przydatne funkcje: numpy.argsort(), ndarray.flatten(). Usunięcie\n",
    "powtórzeń z listy możesz zrealizować np. tak: list(dict.fromkeys([20,19,5,20,6]))."
   ]
  },
  {
   "cell_type": "markdown",
   "id": "15f651e2",
   "metadata": {},
   "source": [
    "# Breast Cancer Dataset:"
   ]
  },
  {
   "cell_type": "code",
   "execution_count": null,
   "id": "c69f0d8d",
   "metadata": {},
   "outputs": [
    {
     "name": "stdout",
     "output_type": "stream",
     "text": [
      "[ 7  6 27  5 22 26 20  2 23  3  0 12 25 10 13 17 15  9 16  4  8 29 24 28\n",
      " 19 21  1 14 11 18]\n"
     ]
    }
   ],
   "source": [
    "import numpy as np\n",
    "\n",
    "weights = np.abs(pca_bc_sc.components_ * pca_bc_sc.explained_variance_ratio_.reshape(-1,1))\n",
    "# print(weights)\n",
    "ind = np.argsort(np.max(weights, axis=0))[::-1]\n",
    "print(ind)"
   ]
  },
  {
   "cell_type": "markdown",
   "id": "8c7b00f7",
   "metadata": {},
   "source": [
    "# Iris dataset:"
   ]
  },
  {
   "cell_type": "code",
   "execution_count": 16,
   "id": "149badda",
   "metadata": {},
   "outputs": [
    {
     "name": "stdout",
     "output_type": "stream",
     "text": [
      "[2 3 0 1]\n"
     ]
    }
   ],
   "source": [
    "weights2 = np.abs(pca_iris_sc.components_ * pca_iris_sc.explained_variance_ratio_.reshape(-1,1))\n",
    "ind2 = np.argsort(np.max(weights2, axis=0))[::-1]\n",
    "print(ind2)"
   ]
  },
  {
   "cell_type": "code",
   "execution_count": 17,
   "id": "02b7baac",
   "metadata": {},
   "outputs": [],
   "source": [
    "with open('idx_bc.pkl', 'wb') as file:\n",
    "    pickle.dump(ind, file)\n",
    "\n",
    "with open('idx_ir.pkl', 'wb') as file:\n",
    "    pickle.dump(ind2, file)"
   ]
  }
 ],
 "metadata": {
  "kernelspec": {
   "display_name": "data-engineering",
   "language": "python",
   "name": "python3"
  },
  "language_info": {
   "codemirror_mode": {
    "name": "ipython",
    "version": 3
   },
   "file_extension": ".py",
   "mimetype": "text/x-python",
   "name": "python",
   "nbconvert_exporter": "python",
   "pygments_lexer": "ipython3",
   "version": "3.13.2"
  }
 },
 "nbformat": 4,
 "nbformat_minor": 5
}
