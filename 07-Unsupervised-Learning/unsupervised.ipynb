{
 "cells": [
  {
   "cell_type": "markdown",
   "id": "eecbb233",
   "metadata": {},
   "source": [
    "## Unsupervised learning"
   ]
  },
  {
   "cell_type": "markdown",
   "id": "ac62de61",
   "metadata": {},
   "source": [
    "### Preparing data"
   ]
  },
  {
   "cell_type": "code",
   "execution_count": 2,
   "id": "f45aacf6",
   "metadata": {},
   "outputs": [
    {
     "name": "stdout",
     "output_type": "stream",
     "text": [
      "[[0 0 0 ... 0 0 0]\n",
      " [0 0 0 ... 0 0 0]\n",
      " [0 0 0 ... 0 0 0]\n",
      " ...\n",
      " [0 0 0 ... 0 0 0]\n",
      " [0 0 0 ... 0 0 0]\n",
      " [0 0 0 ... 0 0 0]]\n",
      "[5 0 4 ... 4 5 6]\n"
     ]
    }
   ],
   "source": [
    "from sklearn.datasets import fetch_openml\n",
    "import numpy as np\n",
    "import pandas as pd\n",
    "import matplotlib.pyplot as plt\n",
    "\n",
    "mnist = fetch_openml('mnist_784', version=1, as_frame=False, parser='auto')\n",
    "mnist.target = mnist.target.astype(np.uint8)\n",
    "X = mnist[\"data\"]\n",
    "y = mnist[\"target\"]\n",
    "\n",
    "print(X)\n",
    "print(y)"
   ]
  },
  {
   "cell_type": "markdown",
   "id": "010375f9",
   "metadata": {},
   "source": [
    "# K-Means"
   ]
  },
  {
   "cell_type": "markdown",
   "id": "6fb07e03",
   "metadata": {},
   "source": [
    "### Silhouette score (wskaznik sylwetkowy) \n",
    "- mierzy jak dobrze dany punkt pasuje do klastra  \n",
    "  s = (b-a)/(max(a,b))      wartosc (-1,1)\n",
    "im blizej 1 tym lepszy, im blizej -1 tym gorszy\n",
    "a - srednia odlegosc do wszytskch punktow W TYM SAMYM klastrze\n",
    "      (im mniej tym lepiej)\n",
    "b - srednia odleglosc od wszystkich punktow W NAJBLIZSZYM SASIEDNIM klastrze (im wiecej tym lepiej)\n"
   ]
  },
  {
   "cell_type": "code",
   "execution_count": 6,
   "id": "01dd6f54",
   "metadata": {},
   "outputs": [
    {
     "name": "stdout",
     "output_type": "stream",
     "text": [
      "Silhouette score for k =  8  :  0.07337977998298922\n",
      "Silhouette score for k =  9  :  0.05681625379289227\n",
      "Silhouette score for k =  10  :  0.0586915389505002\n",
      "Silhouette score for k =  11  :  0.05835878745275728\n",
      "Silhouette score for k =  12  :  0.05817356340885259\n"
     ]
    }
   ],
   "source": [
    "from sklearn.cluster import KMeans\n",
    "from sklearn.metrics import silhouette_score\n",
    "\n",
    "k_number = [8,9,10,11,12]\n",
    "\n",
    "silh_list = []\n",
    "\n",
    "\n",
    "for k in k_number:\n",
    "    kmeans = KMeans(n_init=10, n_clusters=k, random_state=42)\n",
    "    y_pred = kmeans.fit_predict(X)\n",
    "    silhouette_sc = silhouette_score(X, y_pred)\n",
    "    print(\"Silhouette score for k = \", k, \" : \", silhouette_sc)\n",
    "    silh_list.append(silhouette_sc)"
   ]
  },
  {
   "cell_type": "markdown",
   "id": "98dcdb91",
   "metadata": {},
   "source": [
    "### Mimo, ze wiadomo, ze jest 10 klastrow to KMeans nie dal najlepszego silhouete score dla k=10, lecz niewiele lepsze (tez bardzo male) dla k=8"
   ]
  },
  {
   "cell_type": "code",
   "execution_count": 8,
   "id": "bbc19822",
   "metadata": {},
   "outputs": [
    {
     "name": "stdout",
     "output_type": "stream",
     "text": [
      "[np.float64(0.07337977998298922), np.float64(0.05681625379289227), np.float64(0.0586915389505002), np.float64(0.05835878745275728), np.float64(0.05817356340885259)]\n"
     ]
    }
   ],
   "source": [
    "import pickle\n",
    "\n",
    "print(silh_list)\n",
    "\n",
    "with open('kmeans_sil.pkl', 'wb') as file:\n",
    "    pickle.dump(silh_list, file)"
   ]
  },
  {
   "cell_type": "code",
   "execution_count": 20,
   "id": "8f4228ea",
   "metadata": {},
   "outputs": [],
   "source": [
    "from sklearn.metrics import confusion_matrix\n",
    "\n",
    "kmeans10 = KMeans(n_init=10, n_clusters=10, random_state=42)\n",
    "kmeans10.fit_predict(X)\n",
    "\n",
    "conf_matrix = confusion_matrix(y, kmeans10.predict(X))"
   ]
  },
  {
   "cell_type": "code",
   "execution_count": 19,
   "id": "3de18507",
   "metadata": {},
   "outputs": [
    {
     "name": "stdout",
     "output_type": "stream",
     "text": [
      "[0 1 2 3 5 6 8 9]\n"
     ]
    }
   ],
   "source": [
    "max_ind_list = []\n",
    "\n",
    "for row in conf_matrix:\n",
    "    i = np.argmax(row)\n",
    "    max_ind_list.append(i)\n",
    "\n",
    "max_ind_list = np.unique(max_ind_list)\n",
    "max_ind_list.sort()\n",
    "\n",
    "\n",
    "print(max_ind_list)\n"
   ]
  },
  {
   "cell_type": "markdown",
   "id": "6922494e",
   "metadata": {},
   "source": [
    "lista: [0 1 2 3 5 6 8 9]\n",
    "pokazuje ze klastry K-Means o indeksach 4 i 7 nie byly glownymi reprezentantami dla zadnej z 10 prawdziwych cyfr\n"
   ]
  },
  {
   "cell_type": "code",
   "execution_count": 21,
   "id": "2ccfcaf9",
   "metadata": {},
   "outputs": [],
   "source": [
    "with open('kmeans_argmax.pkl', 'wb') as file:\n",
    "    pickle.dump(max_ind_list, file)"
   ]
  },
  {
   "cell_type": "markdown",
   "id": "c2dbb0d7",
   "metadata": {},
   "source": [
    "# DBSCAN"
   ]
  },
  {
   "cell_type": "code",
   "execution_count": 4,
   "id": "2f5b91e1",
   "metadata": {},
   "outputs": [],
   "source": [
    "from sklearn.cluster import DBSCAN\n",
    "\n",
    "n_subset = 300\n",
    "all_distances = []\n",
    "\n",
    "for i in range(n_subset):\n",
    "    x1 = X[i]\n",
    "\n",
    "    for j in range(X.shape[0]):\n",
    "        x2 = X[j]\n",
    "        dist = np.linalg.norm(x1 - x2)\n",
    "        if dist < 1e-11:\n",
    "            continue\n",
    "        all_distances.append(dist)\n",
    "\n",
    "all_distances.sort()"
   ]
  },
  {
   "cell_type": "code",
   "execution_count": null,
   "id": "33f0b490",
   "metadata": {},
   "outputs": [
    {
     "name": "stdout",
     "output_type": "stream",
     "text": [
      "[np.float64(279.26152617215286), np.float64(304.37641170103836), np.float64(317.5893575043093), np.float64(328.7658741414626), np.float64(333.4546445920344), np.float64(352.89800226127664), np.float64(355.1774204534967), np.float64(358.07401469528617), np.float64(359.64287842247063), np.float64(360.42474942767177)]\n"
     ]
    }
   ],
   "source": [
    "all_distances_10 = all_distances[:10]\n",
    "print(all_distances_10)\n",
    "\n",
    "with open('dist.pkl', 'wb') as file:\n",
    "    pickle.dump(all_distances_10, file)"
   ]
  },
  {
   "cell_type": "code",
   "execution_count": 7,
   "id": "28b55abd",
   "metadata": {},
   "outputs": [
    {
     "name": "stdout",
     "output_type": "stream",
     "text": [
      "300.40909845916684\n"
     ]
    }
   ],
   "source": [
    "s = (all_distances_10[0] + all_distances_10[1] + all_distances_10[2])/3.0\n",
    "print(s)\n"
   ]
  },
  {
   "cell_type": "code",
   "execution_count": 15,
   "id": "22e78af6",
   "metadata": {},
   "outputs": [
    {
     "name": "stdout",
     "output_type": "stream",
     "text": [
      "[np.float64(300.40909845916684), np.float64(312.4254623975335), np.float64(324.4418263359002)]\n"
     ]
    }
   ],
   "source": [
    "eps_list = []\n",
    "\n",
    "# for eps in range(s, s+0.1*s, 0.04*s):\n",
    "#     eps_list.append(eps)\n",
    "\n",
    "i = s\n",
    "stop = s+0.1*s\n",
    "step = 0.04*s\n",
    "\n",
    "while (i <= stop):\n",
    "    eps_list.append(i)\n",
    "    i += step\n",
    "\n",
    "print(eps_list)"
   ]
  },
  {
   "cell_type": "code",
   "execution_count": 16,
   "id": "883590aa",
   "metadata": {},
   "outputs": [
    {
     "name": "stdout",
     "output_type": "stream",
     "text": [
      "For eps= 300.40909845916684  label count :  4\n",
      "\n",
      "For eps= 312.4254623975335  label count :  7\n",
      "\n",
      "For eps= 324.4418263359002  label count :  22\n",
      "\n"
     ]
    }
   ],
   "source": [
    "label_count_list = []\n",
    "\n",
    "for eps in eps_list:\n",
    "    db_scan = DBSCAN(eps=eps, n_jobs=-1)\n",
    "    db_scan.fit(X)\n",
    "    cluster_unique = np.unique(db_scan.labels_)\n",
    "    label_count_list.append(len(cluster_unique))\n",
    "    print(\"For eps=\", eps, \" label count : \", len(cluster_unique))\n",
    "    print() \n",
    "\n"
   ]
  },
  {
   "cell_type": "code",
   "execution_count": 17,
   "id": "b653b1fb",
   "metadata": {},
   "outputs": [],
   "source": [
    "with open('dbscan_len.pkl', 'wb') as file:\n",
    "    pickle.dump(label_count_list, file)"
   ]
  }
 ],
 "metadata": {
  "kernelspec": {
   "display_name": "data-engineering",
   "language": "python",
   "name": "python3"
  },
  "language_info": {
   "codemirror_mode": {
    "name": "ipython",
    "version": 3
   },
   "file_extension": ".py",
   "mimetype": "text/x-python",
   "name": "python",
   "nbconvert_exporter": "python",
   "pygments_lexer": "ipython3",
   "version": "3.13.2"
  }
 },
 "nbformat": 4,
 "nbformat_minor": 5
}
