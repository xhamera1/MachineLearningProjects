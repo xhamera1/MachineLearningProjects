{
 "cells": [
  {
   "cell_type": "markdown",
   "id": "744c7304",
   "metadata": {},
   "source": [
    "# Neural Networks "
   ]
  },
  {
   "cell_type": "markdown",
   "id": "61e5a5ca",
   "metadata": {},
   "source": [
    "# Classification"
   ]
  },
  {
   "cell_type": "markdown",
   "id": "ba92b521",
   "metadata": {},
   "source": [
    "## Getting Data"
   ]
  },
  {
   "cell_type": "markdown",
   "id": "bdcdafa1",
   "metadata": {},
   "source": [
    "Dataset Fashion MNIST"
   ]
  },
  {
   "cell_type": "code",
   "execution_count": 91,
   "id": "cded0e5a",
   "metadata": {},
   "outputs": [],
   "source": [
    "import pandas as pd\n",
    "import numpy as np\n",
    "import matplotlib.pyplot as plt\n",
    "import tensorflow as tf"
   ]
  },
  {
   "cell_type": "code",
   "execution_count": 92,
   "id": "d5045a90",
   "metadata": {},
   "outputs": [],
   "source": [
    "fashion_mnist = tf.keras.datasets.fashion_mnist\n",
    "(X_train, y_train), (X_test, y_test) = fashion_mnist.load_data()\n",
    "assert X_train.shape == (60000, 28, 28)\n",
    "assert X_test.shape == (10000, 28, 28)\n",
    "assert y_train.shape == (60000,)\n",
    "assert y_test.shape == (10000,)\n"
   ]
  },
  {
   "cell_type": "markdown",
   "id": "1dd0ac39",
   "metadata": {},
   "source": [
    "Scaling values"
   ]
  },
  {
   "cell_type": "code",
   "execution_count": 93,
   "id": "e8fa6275",
   "metadata": {},
   "outputs": [],
   "source": [
    "X_train = X_train/255.0\n",
    "X_test = X_test/255.0\n"
   ]
  },
  {
   "cell_type": "code",
   "execution_count": 94,
   "id": "64ed4b6a",
   "metadata": {},
   "outputs": [
    {
     "data": {
      "image/png": "[encoded data removed]",
      "text/plain": [
       "<Figure size 200x200 with 1 Axes>"
      ]
     },
     "metadata": {},
     "output_type": "display_data"
    }
   ],
   "source": [
    "plt.figure(figsize=(2,2))\n",
    "plt.imshow(X_train[42], cmap=\"binary\")\n",
    "plt.axis('off')\n",
    "plt.show()"
   ]
  },
  {
   "cell_type": "code",
   "execution_count": 95,
   "id": "fec91f0c",
   "metadata": {},
   "outputs": [
    {
     "name": "stdout",
     "output_type": "stream",
     "text": [
      "but\n"
     ]
    }
   ],
   "source": [
    "class_names = [\"koszulka\", \"spodnie\", \"pulower\", \n",
    "               \"sukienka\", \"kurtka\",\"sandał\",\n",
    "                \"koszula\", \"półbut\", \"torba\", \"but\"]\n",
    "print(class_names[y_train[42]])\n",
    "# but"
   ]
  },
  {
   "cell_type": "markdown",
   "id": "fe45c4fa",
   "metadata": {},
   "source": [
    "## Creating neural network model"
   ]
  },
  {
   "cell_type": "code",
   "execution_count": 96,
   "id": "a5e83be2",
   "metadata": {},
   "outputs": [],
   "source": [
    "import keras\n",
    "\n",
    "model = keras.models.Sequential()\n",
    "\n",
    "model.add(keras.layers.Flatten(input_shape=[28,28]))\n",
    "model.add(keras.layers.Dense(300, activation=\"relu\"))\n",
    "model.add(keras.layers.Dense(100, activation=\"relu\"))\n",
    "model.add(keras.layers.Dense(10, activation=\"softmax\"))"
   ]
  },
  {
   "cell_type": "code",
   "execution_count": 97,
   "id": "4b000745",
   "metadata": {},
   "outputs": [
    {
     "name": "stdout",
     "output_type": "stream",
     "text": [
      "Model: \"sequential_11\"\n",
      "_________________________________________________________________\n",
      " Layer (type)                Output Shape              Param #   \n",
      "=================================================================\n",
      " flatten_2 (Flatten)         (None, 784)               0         \n",
      "                                                                 \n",
      " dense_44 (Dense)            (None, 300)               235500    \n",
      "                                                                 \n",
      " dense_45 (Dense)            (None, 100)               30100     \n",
      "                                                                 \n",
      " dense_46 (Dense)            (None, 10)                1010      \n",
      "                                                                 \n",
      "=================================================================\n",
      "Total params: 266610 (1.02 MB)\n",
      "Trainable params: 266610 (1.02 MB)\n",
      "Non-trainable params: 0 (0.00 Byte)\n",
      "_________________________________________________________________\n"
     ]
    }
   ],
   "source": [
    "model.summary()"
   ]
  },
  {
   "cell_type": "code",
   "execution_count": 98,
   "id": "368c00a0",
   "metadata": {},
   "outputs": [],
   "source": [
    "model.compile(loss=\"sparse_categorical_crossentropy\",\n",
    "              optimizer=\"sgd\",\n",
    "              metrics=[\"accuracy\"])"
   ]
  },
  {
   "cell_type": "code",
   "execution_count": 99,
   "id": "8030238d",
   "metadata": {},
   "outputs": [],
   "source": [
    "import os\n",
    "root_logdir = os.path.join(os.curdir, \"image_logs\")\n",
    "def get_run_logdir():\n",
    "    import time\n",
    "    run_id = time.strftime(\"run_%Y_%m_%d-%H_%M_%S\")\n",
    "    return os.path.join(root_logdir, run_id)\n",
    "run_logdir = get_run_logdir()\n"
   ]
  },
  {
   "cell_type": "code",
   "execution_count": 100,
   "id": "1722bfb5",
   "metadata": {},
   "outputs": [
    {
     "name": "stdout",
     "output_type": "stream",
     "text": [
      "Epoch 1/20\n",
      "1688/1688 [==============================] - 9s 5ms/step - loss: 0.7267 - accuracy: 0.7616 - val_loss: 0.5709 - val_accuracy: 0.8058\n",
      "Epoch 2/20\n",
      "1688/1688 [==============================] - 8s 5ms/step - loss: 0.4875 - accuracy: 0.8306 - val_loss: 0.4799 - val_accuracy: 0.8217\n",
      "Epoch 3/20\n",
      "1688/1688 [==============================] - 9s 5ms/step - loss: 0.4420 - accuracy: 0.8449 - val_loss: 0.4713 - val_accuracy: 0.8302\n",
      "Epoch 4/20\n",
      "1688/1688 [==============================] - 9s 5ms/step - loss: 0.4134 - accuracy: 0.8555 - val_loss: 0.4338 - val_accuracy: 0.8442\n",
      "Epoch 5/20\n",
      "1688/1688 [==============================] - 9s 5ms/step - loss: 0.3934 - accuracy: 0.8614 - val_loss: 0.3924 - val_accuracy: 0.8588\n",
      "Epoch 6/20\n",
      "1688/1688 [==============================] - 9s 6ms/step - loss: 0.3772 - accuracy: 0.8668 - val_loss: 0.4045 - val_accuracy: 0.8568\n",
      "Epoch 7/20\n",
      "1688/1688 [==============================] - 12s 7ms/step - loss: 0.3635 - accuracy: 0.8714 - val_loss: 0.3704 - val_accuracy: 0.8645\n",
      "Epoch 8/20\n",
      "1688/1688 [==============================] - 16s 10ms/step - loss: 0.3519 - accuracy: 0.8755 - val_loss: 0.4073 - val_accuracy: 0.8588\n",
      "Epoch 9/20\n",
      "1688/1688 [==============================] - 17s 10ms/step - loss: 0.3417 - accuracy: 0.8781 - val_loss: 0.3702 - val_accuracy: 0.8650\n",
      "Epoch 10/20\n",
      "1688/1688 [==============================] - 17s 10ms/step - loss: 0.3321 - accuracy: 0.8825 - val_loss: 0.3624 - val_accuracy: 0.8652\n",
      "Epoch 11/20\n",
      "1688/1688 [==============================] - 16s 10ms/step - loss: 0.3230 - accuracy: 0.8844 - val_loss: 0.3560 - val_accuracy: 0.8712\n",
      "Epoch 12/20\n",
      "1688/1688 [==============================] - 9s 5ms/step - loss: 0.3154 - accuracy: 0.8875 - val_loss: 0.3497 - val_accuracy: 0.8712\n",
      "Epoch 13/20\n",
      "1688/1688 [==============================] - 9s 5ms/step - loss: 0.3081 - accuracy: 0.8899 - val_loss: 0.3482 - val_accuracy: 0.8720\n",
      "Epoch 14/20\n",
      "1688/1688 [==============================] - 9s 5ms/step - loss: 0.3013 - accuracy: 0.8921 - val_loss: 0.3390 - val_accuracy: 0.8737\n",
      "Epoch 15/20\n",
      "1688/1688 [==============================] - 9s 5ms/step - loss: 0.2945 - accuracy: 0.8945 - val_loss: 0.3411 - val_accuracy: 0.8748\n",
      "Epoch 16/20\n",
      "1688/1688 [==============================] - 9s 5ms/step - loss: 0.2885 - accuracy: 0.8961 - val_loss: 0.3451 - val_accuracy: 0.8758\n",
      "Epoch 17/20\n",
      "1688/1688 [==============================] - 10s 6ms/step - loss: 0.2835 - accuracy: 0.8984 - val_loss: 0.3319 - val_accuracy: 0.8780\n",
      "Epoch 18/20\n",
      "1688/1688 [==============================] - 9s 5ms/step - loss: 0.2776 - accuracy: 0.9015 - val_loss: 0.3177 - val_accuracy: 0.8830\n",
      "Epoch 19/20\n",
      "1688/1688 [==============================] - 9s 5ms/step - loss: 0.2718 - accuracy: 0.9035 - val_loss: 0.3711 - val_accuracy: 0.8628\n",
      "Epoch 20/20\n",
      "1688/1688 [==============================] - 9s 5ms/step - loss: 0.2674 - accuracy: 0.9031 - val_loss: 0.3321 - val_accuracy: 0.8802\n"
     ]
    }
   ],
   "source": [
    "tensorboard_cb = tf.keras.callbacks.TensorBoard(run_logdir)\n",
    "\n",
    "history = model.fit(X_train, y_train, epochs=20,\n",
    "                    validation_split=0.1,\n",
    "                    callbacks=[tensorboard_cb])\n"
   ]
  },
  {
   "cell_type": "markdown",
   "id": "f0f4ff7b",
   "metadata": {},
   "source": [
    "### Some random prediction"
   ]
  },
  {
   "cell_type": "code",
   "execution_count": 101,
   "id": "35b18d1c",
   "metadata": {},
   "outputs": [
    {
     "name": "stdout",
     "output_type": "stream",
     "text": [
      "1/1 [==============================] - 0s 64ms/step\n",
      "Prediction:  torba\n",
      "Confidence:  0.99321425\n",
      "Truth:  torba\n"
     ]
    },
    {
     "data": {
      "image/png": "[encoded data removed]",
      "text/plain": [
       "<Figure size 200x200 with 1 Axes>"
      ]
     },
     "metadata": {},
     "output_type": "display_data"
    }
   ],
   "source": [
    "image_index = np.random.randint(len(X_test)) # losowy indeks\n",
    "image = np.array([X_test[image_index]]) # losowy obraz\n",
    "confidences = model.predict(image) # prawdopodobienstwa\n",
    "# print(confidences)\n",
    "confidence = np.max(confidences[0])\n",
    "prediction = np.argmax(confidences[0])\n",
    "print(\"Prediction: \", class_names[prediction])\n",
    "print(\"Confidence: \", confidence)\n",
    "print(\"Truth: \", class_names[y_test[image_index]])\n",
    "plt.figure(figsize=(2,2))\n",
    "plt.imshow(image[0], cmap=\"binary\")\n",
    "plt.axis('off')\n",
    "plt.show()\n"
   ]
  },
  {
   "cell_type": "code",
   "execution_count": 102,
   "id": "f80268f5",
   "metadata": {},
   "outputs": [],
   "source": [
    "# %load_ext tensorboard\n",
    "# %tensorboard --logdir=./image_logs"
   ]
  },
  {
   "cell_type": "code",
   "execution_count": 103,
   "id": "4f8a0b55",
   "metadata": {},
   "outputs": [],
   "source": [
    "model.save('fashion_clf.keras')"
   ]
  },
  {
   "cell_type": "markdown",
   "id": "8806c898",
   "metadata": {},
   "source": [
    "# Regression"
   ]
  },
  {
   "cell_type": "markdown",
   "id": "d29e4972",
   "metadata": {},
   "source": [
    "### Getting data"
   ]
  },
  {
   "cell_type": "code",
   "execution_count": 104,
   "id": "70b947bd",
   "metadata": {},
   "outputs": [],
   "source": [
    "from sklearn.datasets import fetch_california_housing\n",
    "from sklearn.model_selection import train_test_split\n",
    "\n",
    "housing = fetch_california_housing()"
   ]
  },
  {
   "cell_type": "code",
   "execution_count": 105,
   "id": "eaba8eeb",
   "metadata": {},
   "outputs": [
    {
     "name": "stdout",
     "output_type": "stream",
     "text": [
      "['MedInc', 'HouseAge', 'AveRooms', 'AveBedrms', 'Population', 'AveOccup', 'Latitude', 'Longitude']\n",
      "['MedHouseVal']\n"
     ]
    }
   ],
   "source": [
    "X = housing['data']\n",
    "y = housing['target']\n",
    "print(housing['feature_names'])\n",
    "print(housing['target_names'])"
   ]
  },
  {
   "cell_type": "code",
   "execution_count": 106,
   "id": "af599e64",
   "metadata": {},
   "outputs": [],
   "source": [
    "# 80% TRAIN_AND_VALID, 20% TEST\n",
    "# 90% TRAIN, 10% VALID\n",
    "X_train_full, X_test, y_train_full, y_test = train_test_split(X, y, test_size=0.2)\n",
    "X_train, X_valid, y_train, y_valid = train_test_split(X_train_full, y_train_full, test_size=0.1)"
   ]
  },
  {
   "cell_type": "code",
   "execution_count": 107,
   "id": "fe3cecea",
   "metadata": {},
   "outputs": [],
   "source": [
    "# warstwa normalizujaca\n",
    "\n",
    "normalizer = keras.layers.Normalization(\n",
    "    input_shape=[X_train.shape[1]])\n",
    "\n",
    "normalizer.adapt(X_train)"
   ]
  },
  {
   "cell_type": "code",
   "execution_count": 108,
   "id": "c34a5c9f",
   "metadata": {},
   "outputs": [],
   "source": [
    "model_reg = keras.models.Sequential()\n",
    "\n",
    "model_reg.add(normalizer)\n",
    "model_reg.add(keras.layers.Dense(50, activation=\"relu\"))\n",
    "model_reg.add(keras.layers.Dense(50, activation=\"relu\"))\n",
    "model_reg.add(keras.layers.Dense(50, activation=\"relu\"))\n",
    "model_reg.add(keras.layers.Dense(1))\n",
    "\n"
   ]
  },
  {
   "cell_type": "code",
   "execution_count": 109,
   "id": "477f3980",
   "metadata": {},
   "outputs": [],
   "source": [
    "model_reg.compile(loss=\"mean_squared_error\",\n",
    "              optimizer=\"adam\",\n",
    "              metrics=keras.metrics.RootMeanSquaredError())"
   ]
  },
  {
   "cell_type": "code",
   "execution_count": 110,
   "id": "2436d352",
   "metadata": {},
   "outputs": [
    {
     "name": "stdout",
     "output_type": "stream",
     "text": [
      "Model: \"sequential_12\"\n",
      "_________________________________________________________________\n",
      " Layer (type)                Output Shape              Param #   \n",
      "=================================================================\n",
      " normalization_5 (Normaliza  (None, 8)                 17        \n",
      " tion)                                                           \n",
      "                                                                 \n",
      " dense_47 (Dense)            (None, 50)                450       \n",
      "                                                                 \n",
      " dense_48 (Dense)            (None, 50)                2550      \n",
      "                                                                 \n",
      " dense_49 (Dense)            (None, 50)                2550      \n",
      "                                                                 \n",
      " dense_50 (Dense)            (None, 1)                 51        \n",
      "                                                                 \n",
      "=================================================================\n",
      "Total params: 5618 (21.95 KB)\n",
      "Trainable params: 5601 (21.88 KB)\n",
      "Non-trainable params: 17 (72.00 Byte)\n",
      "_________________________________________________________________\n"
     ]
    }
   ],
   "source": [
    "model_reg.summary()"
   ]
  },
  {
   "cell_type": "markdown",
   "id": "5cf14e7b",
   "metadata": {},
   "source": [
    "### Early stopping"
   ]
  },
  {
   "cell_type": "code",
   "execution_count": 111,
   "id": "ec923cd6",
   "metadata": {},
   "outputs": [],
   "source": [
    "es = tf.keras.callbacks.EarlyStopping(patience=5,\n",
    "                                      min_delta=0.01,\n",
    "                                      verbose=1)"
   ]
  },
  {
   "cell_type": "code",
   "execution_count": 112,
   "id": "3fa94d5f",
   "metadata": {},
   "outputs": [],
   "source": [
    "root_logdir = os.path.join(os.curdir, \"housing_logs\")\n",
    "def get_run_logdir():\n",
    "    import time\n",
    "    run_id = time.strftime(\"run_%Y_%m_%d-%H_%M_%S\")\n",
    "    return os.path.join(root_logdir, run_id)\n",
    "run_logdir = get_run_logdir()\n"
   ]
  },
  {
   "cell_type": "markdown",
   "id": "5100f5fe",
   "metadata": {},
   "source": [
    "### Model learing, we can apply big epochs size because early stopping will stop anyway"
   ]
  },
  {
   "cell_type": "code",
   "execution_count": 113,
   "id": "befc52f9",
   "metadata": {},
   "outputs": [
    {
     "name": "stdout",
     "output_type": "stream",
     "text": [
      "Epoch 1/100\n",
      "465/465 [==============================] - 2s 3ms/step - loss: 0.7829 - root_mean_squared_error: 0.8848 - val_loss: 0.4328 - val_root_mean_squared_error: 0.6579\n",
      "Epoch 2/100\n",
      "465/465 [==============================] - 1s 3ms/step - loss: 0.3864 - root_mean_squared_error: 0.6216 - val_loss: 0.3752 - val_root_mean_squared_error: 0.6125\n",
      "Epoch 3/100\n",
      "465/465 [==============================] - 1s 3ms/step - loss: 0.3500 - root_mean_squared_error: 0.5916 - val_loss: 0.3674 - val_root_mean_squared_error: 0.6062\n",
      "Epoch 4/100\n",
      "465/465 [==============================] - 1s 3ms/step - loss: 0.3323 - root_mean_squared_error: 0.5764 - val_loss: 0.3579 - val_root_mean_squared_error: 0.5982\n",
      "Epoch 5/100\n",
      "465/465 [==============================] - 1s 3ms/step - loss: 0.3175 - root_mean_squared_error: 0.5635 - val_loss: 0.3435 - val_root_mean_squared_error: 0.5861\n",
      "Epoch 6/100\n",
      "465/465 [==============================] - 1s 2ms/step - loss: 0.3087 - root_mean_squared_error: 0.5556 - val_loss: 0.3381 - val_root_mean_squared_error: 0.5814\n",
      "Epoch 7/100\n",
      "465/465 [==============================] - 1s 3ms/step - loss: 0.3137 - root_mean_squared_error: 0.5601 - val_loss: 0.3321 - val_root_mean_squared_error: 0.5762\n",
      "Epoch 8/100\n",
      "465/465 [==============================] - 1s 3ms/step - loss: 0.2957 - root_mean_squared_error: 0.5438 - val_loss: 0.3163 - val_root_mean_squared_error: 0.5624\n",
      "Epoch 9/100\n",
      "465/465 [==============================] - 1s 2ms/step - loss: 0.2929 - root_mean_squared_error: 0.5412 - val_loss: 0.3334 - val_root_mean_squared_error: 0.5774\n",
      "Epoch 10/100\n",
      "465/465 [==============================] - 1s 2ms/step - loss: 0.2908 - root_mean_squared_error: 0.5393 - val_loss: 0.3050 - val_root_mean_squared_error: 0.5523\n",
      "Epoch 11/100\n",
      "465/465 [==============================] - 1s 3ms/step - loss: 0.2823 - root_mean_squared_error: 0.5313 - val_loss: 0.3119 - val_root_mean_squared_error: 0.5585\n",
      "Epoch 12/100\n",
      "465/465 [==============================] - 1s 2ms/step - loss: 0.2811 - root_mean_squared_error: 0.5302 - val_loss: 0.2893 - val_root_mean_squared_error: 0.5379\n",
      "Epoch 13/100\n",
      "465/465 [==============================] - 1s 3ms/step - loss: 0.2786 - root_mean_squared_error: 0.5279 - val_loss: 0.2955 - val_root_mean_squared_error: 0.5436\n",
      "Epoch 14/100\n",
      "465/465 [==============================] - 1s 3ms/step - loss: 0.2747 - root_mean_squared_error: 0.5241 - val_loss: 0.3009 - val_root_mean_squared_error: 0.5485\n",
      "Epoch 15/100\n",
      "465/465 [==============================] - 1s 3ms/step - loss: 0.2744 - root_mean_squared_error: 0.5238 - val_loss: 0.2973 - val_root_mean_squared_error: 0.5452\n",
      "Epoch 16/100\n",
      "465/465 [==============================] - 1s 3ms/step - loss: 0.2763 - root_mean_squared_error: 0.5256 - val_loss: 0.2810 - val_root_mean_squared_error: 0.5301\n",
      "Epoch 17/100\n",
      "465/465 [==============================] - 1s 3ms/step - loss: 0.2697 - root_mean_squared_error: 0.5193 - val_loss: 0.2874 - val_root_mean_squared_error: 0.5361\n",
      "Epoch 17: early stopping\n"
     ]
    }
   ],
   "source": [
    "tensorboard_cb_reg = tf.keras.callbacks.TensorBoard(run_logdir)\n",
    "history = model_reg.fit(X_train, y_train, epochs=100,   \n",
    "                        validation_data=(X_valid, y_valid),\n",
    "                        callbacks=[tensorboard_cb_reg, es])"
   ]
  },
  {
   "cell_type": "code",
   "execution_count": 114,
   "id": "d1e53cc3",
   "metadata": {},
   "outputs": [],
   "source": [
    "model_reg.save('reg_housing_1.keras')"
   ]
  },
  {
   "cell_type": "code",
   "execution_count": 115,
   "id": "19771b53",
   "metadata": {},
   "outputs": [
    {
     "name": "stdout",
     "output_type": "stream",
     "text": [
      "129/129 [==============================] - 0s 2ms/step - loss: 0.2968 - root_mean_squared_error: 0.5448\n",
      "Test Loss (MSE): 0.2968\n",
      "Test RMSE: 0.5448\n"
     ]
    }
   ],
   "source": [
    "test_loss, test_rmse = model_reg.evaluate(X_test, y_test)\n",
    "print(f\"Test Loss (MSE): {test_loss:.4f}\")\n",
    "print(f\"Test RMSE: {test_rmse:.4f}\")"
   ]
  },
  {
   "cell_type": "markdown",
   "id": "434b27ce",
   "metadata": {},
   "source": [
    "### 2 more regression models "
   ]
  },
  {
   "cell_type": "markdown",
   "id": "263491e5",
   "metadata": {},
   "source": [
    "### First one:"
   ]
  },
  {
   "cell_type": "code",
   "execution_count": 116,
   "id": "5515d5c3",
   "metadata": {},
   "outputs": [],
   "source": [
    "model_reg1 = keras.models.Sequential()\n",
    "model_reg1.add(normalizer)\n",
    "model_reg1.add(keras.layers.Dense(units=10, activation=\"relu\"))\n",
    "model_reg1.add(keras.layers.Dense(units=20, activation=\"relu\"))\n",
    "model_reg1.add(keras.layers.Dense(units=30, activation=\"relu\"))\n",
    "model_reg1.add(keras.layers.Dense(units=40, activation=\"relu\"))\n",
    "model_reg1.add(keras.layers.Dense(units=50, activation=\"relu\"))\n",
    "model_reg1.add(keras.layers.Dense(1))"
   ]
  },
  {
   "cell_type": "code",
   "execution_count": 117,
   "id": "7ec0d4fc",
   "metadata": {},
   "outputs": [],
   "source": [
    "model_reg1.compile(optimizer='adam', \n",
    "                   metrics=keras.metrics.RootMeanSquaredError(),\n",
    "                   loss='mean_squared_error')"
   ]
  },
  {
   "cell_type": "code",
   "execution_count": 118,
   "id": "d9ce1a08",
   "metadata": {},
   "outputs": [
    {
     "name": "stdout",
     "output_type": "stream",
     "text": [
      "Epoch 1/100\n",
      "465/465 [==============================] - 3s 3ms/step - loss: 0.9357 - root_mean_squared_error: 0.9673 - val_loss: 0.5123 - val_root_mean_squared_error: 0.7158\n",
      "Epoch 2/100\n",
      "465/465 [==============================] - 1s 3ms/step - loss: 0.4382 - root_mean_squared_error: 0.6619 - val_loss: 0.4278 - val_root_mean_squared_error: 0.6540\n",
      "Epoch 3/100\n",
      "465/465 [==============================] - 1s 3ms/step - loss: 0.3967 - root_mean_squared_error: 0.6298 - val_loss: 0.4219 - val_root_mean_squared_error: 0.6495\n",
      "Epoch 4/100\n",
      "465/465 [==============================] - 1s 2ms/step - loss: 0.3833 - root_mean_squared_error: 0.6191 - val_loss: 0.4015 - val_root_mean_squared_error: 0.6336\n",
      "Epoch 5/100\n",
      "465/465 [==============================] - 1s 3ms/step - loss: 0.3635 - root_mean_squared_error: 0.6029 - val_loss: 0.3984 - val_root_mean_squared_error: 0.6312\n",
      "Epoch 6/100\n",
      "465/465 [==============================] - 2s 3ms/step - loss: 0.3524 - root_mean_squared_error: 0.5936 - val_loss: 0.3863 - val_root_mean_squared_error: 0.6215\n",
      "Epoch 7/100\n",
      "465/465 [==============================] - 2s 3ms/step - loss: 0.3494 - root_mean_squared_error: 0.5911 - val_loss: 0.3635 - val_root_mean_squared_error: 0.6030\n",
      "Epoch 8/100\n",
      "465/465 [==============================] - 1s 2ms/step - loss: 0.3388 - root_mean_squared_error: 0.5821 - val_loss: 0.3604 - val_root_mean_squared_error: 0.6004\n",
      "Epoch 9/100\n",
      "465/465 [==============================] - 1s 2ms/step - loss: 0.3345 - root_mean_squared_error: 0.5784 - val_loss: 0.3529 - val_root_mean_squared_error: 0.5941\n",
      "Epoch 10/100\n",
      "465/465 [==============================] - 1s 2ms/step - loss: 0.3244 - root_mean_squared_error: 0.5696 - val_loss: 0.3778 - val_root_mean_squared_error: 0.6147\n",
      "Epoch 11/100\n",
      "465/465 [==============================] - 1s 3ms/step - loss: 0.3198 - root_mean_squared_error: 0.5655 - val_loss: 0.3411 - val_root_mean_squared_error: 0.5840\n",
      "Epoch 12/100\n",
      "465/465 [==============================] - 1s 3ms/step - loss: 0.3134 - root_mean_squared_error: 0.5599 - val_loss: 0.3447 - val_root_mean_squared_error: 0.5871\n",
      "Epoch 13/100\n",
      "465/465 [==============================] - 1s 3ms/step - loss: 0.3097 - root_mean_squared_error: 0.5565 - val_loss: 0.3425 - val_root_mean_squared_error: 0.5852\n",
      "Epoch 14/100\n",
      "465/465 [==============================] - 1s 3ms/step - loss: 0.3064 - root_mean_squared_error: 0.5535 - val_loss: 0.3265 - val_root_mean_squared_error: 0.5714\n",
      "Epoch 15/100\n",
      "465/465 [==============================] - 1s 3ms/step - loss: 0.3032 - root_mean_squared_error: 0.5506 - val_loss: 0.3168 - val_root_mean_squared_error: 0.5628\n",
      "Epoch 16/100\n",
      "465/465 [==============================] - 1s 3ms/step - loss: 0.2990 - root_mean_squared_error: 0.5468 - val_loss: 0.3236 - val_root_mean_squared_error: 0.5689\n",
      "Epoch 17/100\n",
      "465/465 [==============================] - 2s 4ms/step - loss: 0.3007 - root_mean_squared_error: 0.5484 - val_loss: 0.3057 - val_root_mean_squared_error: 0.5529\n",
      "Epoch 18/100\n",
      "465/465 [==============================] - 1s 3ms/step - loss: 0.2963 - root_mean_squared_error: 0.5443 - val_loss: 0.3080 - val_root_mean_squared_error: 0.5550\n",
      "Epoch 19/100\n",
      "465/465 [==============================] - 1s 3ms/step - loss: 0.2910 - root_mean_squared_error: 0.5395 - val_loss: 0.3268 - val_root_mean_squared_error: 0.5716\n",
      "Epoch 20/100\n",
      "465/465 [==============================] - 2s 4ms/step - loss: 0.2913 - root_mean_squared_error: 0.5397 - val_loss: 0.3024 - val_root_mean_squared_error: 0.5499\n",
      "Epoch 21/100\n",
      "465/465 [==============================] - 3s 6ms/step - loss: 0.2886 - root_mean_squared_error: 0.5372 - val_loss: 0.2956 - val_root_mean_squared_error: 0.5436\n",
      "Epoch 22/100\n",
      "465/465 [==============================] - 2s 5ms/step - loss: 0.2842 - root_mean_squared_error: 0.5331 - val_loss: 0.2945 - val_root_mean_squared_error: 0.5427\n",
      "Epoch 23/100\n",
      "465/465 [==============================] - 3s 6ms/step - loss: 0.2858 - root_mean_squared_error: 0.5346 - val_loss: 0.2928 - val_root_mean_squared_error: 0.5412\n",
      "Epoch 24/100\n",
      "465/465 [==============================] - 2s 5ms/step - loss: 0.2813 - root_mean_squared_error: 0.5304 - val_loss: 0.2935 - val_root_mean_squared_error: 0.5417\n",
      "Epoch 25/100\n",
      "465/465 [==============================] - 2s 5ms/step - loss: 0.2823 - root_mean_squared_error: 0.5314 - val_loss: 0.2905 - val_root_mean_squared_error: 0.5390\n",
      "Epoch 26/100\n",
      "465/465 [==============================] - 2s 5ms/step - loss: 0.2773 - root_mean_squared_error: 0.5266 - val_loss: 0.3090 - val_root_mean_squared_error: 0.5559\n",
      "Epoch 26: early stopping\n"
     ]
    }
   ],
   "source": [
    "history1 = model_reg1.fit(X_train, y_train,\n",
    "                          epochs=100, validation_data=(X_valid, y_valid),\n",
    "                          callbacks=[tensorboard_cb_reg, es])"
   ]
  },
  {
   "cell_type": "code",
   "execution_count": 119,
   "id": "da41cb97",
   "metadata": {},
   "outputs": [
    {
     "name": "stdout",
     "output_type": "stream",
     "text": [
      "129/129 [==============================] - 0s 3ms/step - loss: 0.3142 - root_mean_squared_error: 0.5606\n",
      "Test Loss (MSE): 0.3142\n",
      "Test RMSE: 0.5606\n"
     ]
    }
   ],
   "source": [
    "test_loss, test_rmse = model_reg1.evaluate(X_test, y_test)\n",
    "print(f\"Test Loss (MSE): {test_loss:.4f}\")\n",
    "print(f\"Test RMSE: {test_rmse:.4f}\")"
   ]
  },
  {
   "cell_type": "code",
   "execution_count": 120,
   "id": "55a318cb",
   "metadata": {},
   "outputs": [],
   "source": [
    "model_reg1.save('reg_housing_2.keras')"
   ]
  },
  {
   "cell_type": "markdown",
   "id": "881569ef",
   "metadata": {},
   "source": [
    "### Second one:"
   ]
  },
  {
   "cell_type": "code",
   "execution_count": 121,
   "id": "46249b53",
   "metadata": {},
   "outputs": [],
   "source": [
    "model_reg2 = keras.models.Sequential()\n",
    "\n",
    "model_reg2.add(normalizer)\n",
    "model_reg2.add(keras.layers.Dense(128, activation='selu'))\n",
    "model_reg2.add(keras.layers.Dense(64, activation='selu'))\n",
    "model_reg2.add(keras.layers.Dense(32, activation='selu'))\n",
    "model_reg2.add(keras.layers.Dense(1))"
   ]
  },
  {
   "cell_type": "code",
   "execution_count": 122,
   "id": "25d7925d",
   "metadata": {},
   "outputs": [],
   "source": [
    "model_reg2.compile(optimizer='adam', \n",
    "                   metrics=keras.metrics.RootMeanSquaredError(),\n",
    "                   loss='mean_squared_error')"
   ]
  },
  {
   "cell_type": "code",
   "execution_count": 123,
   "id": "9c0a679e",
   "metadata": {},
   "outputs": [
    {
     "name": "stdout",
     "output_type": "stream",
     "text": [
      "Epoch 1/100\n",
      "465/465 [==============================] - 4s 5ms/step - loss: 0.6819 - root_mean_squared_error: 0.8258 - val_loss: 0.4365 - val_root_mean_squared_error: 0.6607\n",
      "Epoch 2/100\n",
      "465/465 [==============================] - 2s 5ms/step - loss: 0.4248 - root_mean_squared_error: 0.6518 - val_loss: 0.3988 - val_root_mean_squared_error: 0.6315\n",
      "Epoch 3/100\n",
      "465/465 [==============================] - 2s 5ms/step - loss: 0.3942 - root_mean_squared_error: 0.6278 - val_loss: 0.3982 - val_root_mean_squared_error: 0.6311\n",
      "Epoch 4/100\n",
      "465/465 [==============================] - 2s 4ms/step - loss: 0.3769 - root_mean_squared_error: 0.6139 - val_loss: 0.4120 - val_root_mean_squared_error: 0.6419\n",
      "Epoch 5/100\n",
      "465/465 [==============================] - 3s 5ms/step - loss: 0.3598 - root_mean_squared_error: 0.5998 - val_loss: 0.3453 - val_root_mean_squared_error: 0.5877\n",
      "Epoch 6/100\n",
      "465/465 [==============================] - 3s 6ms/step - loss: 0.3412 - root_mean_squared_error: 0.5841 - val_loss: 0.3327 - val_root_mean_squared_error: 0.5768\n",
      "Epoch 7/100\n",
      "465/465 [==============================] - 3s 7ms/step - loss: 0.3385 - root_mean_squared_error: 0.5818 - val_loss: 0.3295 - val_root_mean_squared_error: 0.5740\n",
      "Epoch 8/100\n",
      "465/465 [==============================] - 2s 4ms/step - loss: 0.3283 - root_mean_squared_error: 0.5730 - val_loss: 0.3269 - val_root_mean_squared_error: 0.5717\n",
      "Epoch 9/100\n",
      "465/465 [==============================] - 2s 3ms/step - loss: 0.3465 - root_mean_squared_error: 0.5886 - val_loss: 0.3315 - val_root_mean_squared_error: 0.5757\n",
      "Epoch 10/100\n",
      "465/465 [==============================] - 2s 3ms/step - loss: 0.3315 - root_mean_squared_error: 0.5757 - val_loss: 0.3086 - val_root_mean_squared_error: 0.5555\n",
      "Epoch 11/100\n",
      "465/465 [==============================] - 2s 3ms/step - loss: 0.3154 - root_mean_squared_error: 0.5616 - val_loss: 0.3109 - val_root_mean_squared_error: 0.5576\n",
      "Epoch 12/100\n",
      "465/465 [==============================] - 2s 4ms/step - loss: 0.3097 - root_mean_squared_error: 0.5565 - val_loss: 0.3297 - val_root_mean_squared_error: 0.5742\n",
      "Epoch 13/100\n",
      "465/465 [==============================] - 2s 4ms/step - loss: 0.3071 - root_mean_squared_error: 0.5541 - val_loss: 0.2972 - val_root_mean_squared_error: 0.5452\n",
      "Epoch 14/100\n",
      "465/465 [==============================] - 2s 4ms/step - loss: 0.2988 - root_mean_squared_error: 0.5466 - val_loss: 0.3308 - val_root_mean_squared_error: 0.5751\n",
      "Epoch 15/100\n",
      "465/465 [==============================] - 2s 4ms/step - loss: 0.3011 - root_mean_squared_error: 0.5487 - val_loss: 0.2977 - val_root_mean_squared_error: 0.5456\n",
      "Epoch 16/100\n",
      "465/465 [==============================] - 2s 4ms/step - loss: 0.2989 - root_mean_squared_error: 0.5468 - val_loss: 0.2989 - val_root_mean_squared_error: 0.5467\n",
      "Epoch 17/100\n",
      "465/465 [==============================] - 2s 4ms/step - loss: 0.2987 - root_mean_squared_error: 0.5466 - val_loss: 0.2938 - val_root_mean_squared_error: 0.5420\n",
      "Epoch 18/100\n",
      "465/465 [==============================] - 2s 4ms/step - loss: 0.2986 - root_mean_squared_error: 0.5464 - val_loss: 0.3032 - val_root_mean_squared_error: 0.5506\n",
      "Epoch 18: early stopping\n"
     ]
    },
    {
     "data": {
      "text/plain": [
       "<keras.src.callbacks.History at 0x1e476ec4c10>"
      ]
     },
     "execution_count": 123,
     "metadata": {},
     "output_type": "execute_result"
    }
   ],
   "source": [
    "model_reg2.fit(X_train, y_train, epochs=100,\n",
    "               validation_data=(X_valid, y_valid),\n",
    "               callbacks=[tensorboard_cb_reg, es])"
   ]
  },
  {
   "cell_type": "code",
   "execution_count": 124,
   "id": "f6caa4ce",
   "metadata": {},
   "outputs": [
    {
     "name": "stdout",
     "output_type": "stream",
     "text": [
      "129/129 [==============================] - 0s 3ms/step - loss: 0.3244 - root_mean_squared_error: 0.5696\n",
      "Test Loss (MSE): 0.3244\n",
      "Test RMSE: 0.5696\n"
     ]
    }
   ],
   "source": [
    "test_loss, test_rmse = model_reg2.evaluate(X_test, y_test)\n",
    "print(f\"Test Loss (MSE): {test_loss:.4f}\")\n",
    "print(f\"Test RMSE: {test_rmse:.4f}\")"
   ]
  },
  {
   "cell_type": "code",
   "execution_count": 125,
   "id": "45c870b6",
   "metadata": {},
   "outputs": [],
   "source": [
    "model_reg2.save('reg_housing_3.keras')"
   ]
  }
 ],
 "metadata": {
  "kernelspec": {
   "display_name": "ml",
   "language": "python",
   "name": "python3"
  },
  "language_info": {
   "codemirror_mode": {
    "name": "ipython",
    "version": 3
   },
   "file_extension": ".py",
   "mimetype": "text/x-python",
   "name": "python",
   "nbconvert_exporter": "python",
   "pygments_lexer": "ipython3",
   "version": "3.11.11"
  }
 },
 "nbformat": 4,
 "nbformat_minor": 5
}
